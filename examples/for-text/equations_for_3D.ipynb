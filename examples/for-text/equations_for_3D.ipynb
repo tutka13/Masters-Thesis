{
 "cells": [
  {
   "cell_type": "code",
   "execution_count": 1,
   "metadata": {},
   "outputs": [],
   "source": [
    "import sympy as sp\n",
    "from IPython.display import display, Math"
   ]
  },
  {
   "cell_type": "code",
   "execution_count": 2,
   "metadata": {},
   "outputs": [
    {
     "name": "stdout",
     "output_type": "stream",
     "text": [
      "-1 + \\frac{\\left(- \\frac{\\left(y - m_{2}{\\left(t \\right)}\\right) \\frac{d}{d t} m_{3}{\\left(t \\right)}}{\\sqrt{\\frac{\\left(\\frac{d}{d t} m_{2}{\\left(t \\right)}\\right)^{2}}{\\left(\\frac{d}{d t} m_{1}{\\left(t \\right)}\\right)^{2} + \\left(\\frac{d}{d t} m_{2}{\\left(t \\right)}\\right)^{2} + \\left(\\frac{d}{d t} m_{3}{\\left(t \\right)}\\right)^{2}} + \\frac{\\left(\\frac{d}{d t} m_{3}{\\left(t \\right)}\\right)^{2}}{\\left(\\frac{d}{d t} m_{1}{\\left(t \\right)}\\right)^{2} + \\left(\\frac{d}{d t} m_{2}{\\left(t \\right)}\\right)^{2} + \\left(\\frac{d}{d t} m_{3}{\\left(t \\right)}\\right)^{2}}} \\sqrt{\\left(\\frac{d}{d t} m_{1}{\\left(t \\right)}\\right)^{2} + \\left(\\frac{d}{d t} m_{2}{\\left(t \\right)}\\right)^{2} + \\left(\\frac{d}{d t} m_{3}{\\left(t \\right)}\\right)^{2}}} + \\frac{\\left(z - m_{3}{\\left(t \\right)}\\right) \\frac{d}{d t} m_{2}{\\left(t \\right)}}{\\sqrt{\\frac{\\left(\\frac{d}{d t} m_{2}{\\left(t \\right)}\\right)^{2}}{\\left(\\frac{d}{d t} m_{1}{\\left(t \\right)}\\right)^{2} + \\left(\\frac{d}{d t} m_{2}{\\left(t \\right)}\\right)^{2} + \\left(\\frac{d}{d t} m_{3}{\\left(t \\right)}\\right)^{2}} + \\frac{\\left(\\frac{d}{d t} m_{3}{\\left(t \\right)}\\right)^{2}}{\\left(\\frac{d}{d t} m_{1}{\\left(t \\right)}\\right)^{2} + \\left(\\frac{d}{d t} m_{2}{\\left(t \\right)}\\right)^{2} + \\left(\\frac{d}{d t} m_{3}{\\left(t \\right)}\\right)^{2}}} \\sqrt{\\left(\\frac{d}{d t} m_{1}{\\left(t \\right)}\\right)^{2} + \\left(\\frac{d}{d t} m_{2}{\\left(t \\right)}\\right)^{2} + \\left(\\frac{d}{d t} m_{3}{\\left(t \\right)}\\right)^{2}}}\\right)^{2}}{b^{2}} + \\frac{\\left(\\frac{\\left(x - m_{1}{\\left(t \\right)}\\right) \\left(\\frac{\\left(\\frac{d}{d t} m_{2}{\\left(t \\right)}\\right)^{2}}{\\sqrt{\\frac{\\left(\\frac{d}{d t} m_{2}{\\left(t \\right)}\\right)^{2}}{\\left(\\frac{d}{d t} m_{1}{\\left(t \\right)}\\right)^{2} + \\left(\\frac{d}{d t} m_{2}{\\left(t \\right)}\\right)^{2} + \\left(\\frac{d}{d t} m_{3}{\\left(t \\right)}\\right)^{2}} + \\frac{\\left(\\frac{d}{d t} m_{3}{\\left(t \\right)}\\right)^{2}}{\\left(\\frac{d}{d t} m_{1}{\\left(t \\right)}\\right)^{2} + \\left(\\frac{d}{d t} m_{2}{\\left(t \\right)}\\right)^{2} + \\left(\\frac{d}{d t} m_{3}{\\left(t \\right)}\\right)^{2}}} \\left(\\left(\\frac{d}{d t} m_{1}{\\left(t \\right)}\\right)^{2} + \\left(\\frac{d}{d t} m_{2}{\\left(t \\right)}\\right)^{2} + \\left(\\frac{d}{d t} m_{3}{\\left(t \\right)}\\right)^{2}\\right)} + \\frac{\\left(\\frac{d}{d t} m_{3}{\\left(t \\right)}\\right)^{2}}{\\sqrt{\\frac{\\left(\\frac{d}{d t} m_{2}{\\left(t \\right)}\\right)^{2}}{\\left(\\frac{d}{d t} m_{1}{\\left(t \\right)}\\right)^{2} + \\left(\\frac{d}{d t} m_{2}{\\left(t \\right)}\\right)^{2} + \\left(\\frac{d}{d t} m_{3}{\\left(t \\right)}\\right)^{2}} + \\frac{\\left(\\frac{d}{d t} m_{3}{\\left(t \\right)}\\right)^{2}}{\\left(\\frac{d}{d t} m_{1}{\\left(t \\right)}\\right)^{2} + \\left(\\frac{d}{d t} m_{2}{\\left(t \\right)}\\right)^{2} + \\left(\\frac{d}{d t} m_{3}{\\left(t \\right)}\\right)^{2}}} \\left(\\left(\\frac{d}{d t} m_{1}{\\left(t \\right)}\\right)^{2} + \\left(\\frac{d}{d t} m_{2}{\\left(t \\right)}\\right)^{2} + \\left(\\frac{d}{d t} m_{3}{\\left(t \\right)}\\right)^{2}\\right)}\\right)}{\\sqrt{\\left(\\frac{\\left(\\frac{d}{d t} m_{2}{\\left(t \\right)}\\right)^{2}}{\\sqrt{\\frac{\\left(\\frac{d}{d t} m_{2}{\\left(t \\right)}\\right)^{2}}{\\left(\\frac{d}{d t} m_{1}{\\left(t \\right)}\\right)^{2} + \\left(\\frac{d}{d t} m_{2}{\\left(t \\right)}\\right)^{2} + \\left(\\frac{d}{d t} m_{3}{\\left(t \\right)}\\right)^{2}} + \\frac{\\left(\\frac{d}{d t} m_{3}{\\left(t \\right)}\\right)^{2}}{\\left(\\frac{d}{d t} m_{1}{\\left(t \\right)}\\right)^{2} + \\left(\\frac{d}{d t} m_{2}{\\left(t \\right)}\\right)^{2} + \\left(\\frac{d}{d t} m_{3}{\\left(t \\right)}\\right)^{2}}} \\left(\\left(\\frac{d}{d t} m_{1}{\\left(t \\right)}\\right)^{2} + \\left(\\frac{d}{d t} m_{2}{\\left(t \\right)}\\right)^{2} + \\left(\\frac{d}{d t} m_{3}{\\left(t \\right)}\\right)^{2}\\right)} + \\frac{\\left(\\frac{d}{d t} m_{3}{\\left(t \\right)}\\right)^{2}}{\\sqrt{\\frac{\\left(\\frac{d}{d t} m_{2}{\\left(t \\right)}\\right)^{2}}{\\left(\\frac{d}{d t} m_{1}{\\left(t \\right)}\\right)^{2} + \\left(\\frac{d}{d t} m_{2}{\\left(t \\right)}\\right)^{2} + \\left(\\frac{d}{d t} m_{3}{\\left(t \\right)}\\right)^{2}} + \\frac{\\left(\\frac{d}{d t} m_{3}{\\left(t \\right)}\\right)^{2}}{\\left(\\frac{d}{d t} m_{1}{\\left(t \\right)}\\right)^{2} + \\left(\\frac{d}{d t} m_{2}{\\left(t \\right)}\\right)^{2} + \\left(\\frac{d}{d t} m_{3}{\\left(t \\right)}\\right)^{2}}} \\left(\\left(\\frac{d}{d t} m_{1}{\\left(t \\right)}\\right)^{2} + \\left(\\frac{d}{d t} m_{2}{\\left(t \\right)}\\right)^{2} + \\left(\\frac{d}{d t} m_{3}{\\left(t \\right)}\\right)^{2}\\right)}\\right)^{2} + \\frac{\\left(\\frac{d}{d t} m_{1}{\\left(t \\right)}\\right)^{2} \\left(\\frac{d}{d t} m_{2}{\\left(t \\right)}\\right)^{2}}{\\left(\\frac{\\left(\\frac{d}{d t} m_{2}{\\left(t \\right)}\\right)^{2}}{\\left(\\frac{d}{d t} m_{1}{\\left(t \\right)}\\right)^{2} + \\left(\\frac{d}{d t} m_{2}{\\left(t \\right)}\\right)^{2} + \\left(\\frac{d}{d t} m_{3}{\\left(t \\right)}\\right)^{2}} + \\frac{\\left(\\frac{d}{d t} m_{3}{\\left(t \\right)}\\right)^{2}}{\\left(\\frac{d}{d t} m_{1}{\\left(t \\right)}\\right)^{2} + \\left(\\frac{d}{d t} m_{2}{\\left(t \\right)}\\right)^{2} + \\left(\\frac{d}{d t} m_{3}{\\left(t \\right)}\\right)^{2}}\\right) \\left(\\left(\\frac{d}{d t} m_{1}{\\left(t \\right)}\\right)^{2} + \\left(\\frac{d}{d t} m_{2}{\\left(t \\right)}\\right)^{2} + \\left(\\frac{d}{d t} m_{3}{\\left(t \\right)}\\right)^{2}\\right)^{2}} + \\frac{\\left(\\frac{d}{d t} m_{1}{\\left(t \\right)}\\right)^{2} \\left(\\frac{d}{d t} m_{3}{\\left(t \\right)}\\right)^{2}}{\\left(\\frac{\\left(\\frac{d}{d t} m_{2}{\\left(t \\right)}\\right)^{2}}{\\left(\\frac{d}{d t} m_{1}{\\left(t \\right)}\\right)^{2} + \\left(\\frac{d}{d t} m_{2}{\\left(t \\right)}\\right)^{2} + \\left(\\frac{d}{d t} m_{3}{\\left(t \\right)}\\right)^{2}} + \\frac{\\left(\\frac{d}{d t} m_{3}{\\left(t \\right)}\\right)^{2}}{\\left(\\frac{d}{d t} m_{1}{\\left(t \\right)}\\right)^{2} + \\left(\\frac{d}{d t} m_{2}{\\left(t \\right)}\\right)^{2} + \\left(\\frac{d}{d t} m_{3}{\\left(t \\right)}\\right)^{2}}\\right) \\left(\\left(\\frac{d}{d t} m_{1}{\\left(t \\right)}\\right)^{2} + \\left(\\frac{d}{d t} m_{2}{\\left(t \\right)}\\right)^{2} + \\left(\\frac{d}{d t} m_{3}{\\left(t \\right)}\\right)^{2}\\right)^{2}}}} - \\frac{\\left(y - m_{2}{\\left(t \\right)}\\right) \\frac{d}{d t} m_{1}{\\left(t \\right)} \\frac{d}{d t} m_{2}{\\left(t \\right)}}{\\sqrt{\\frac{\\left(\\frac{d}{d t} m_{2}{\\left(t \\right)}\\right)^{2}}{\\left(\\frac{d}{d t} m_{1}{\\left(t \\right)}\\right)^{2} + \\left(\\frac{d}{d t} m_{2}{\\left(t \\right)}\\right)^{2} + \\left(\\frac{d}{d t} m_{3}{\\left(t \\right)}\\right)^{2}} + \\frac{\\left(\\frac{d}{d t} m_{3}{\\left(t \\right)}\\right)^{2}}{\\left(\\frac{d}{d t} m_{1}{\\left(t \\right)}\\right)^{2} + \\left(\\frac{d}{d t} m_{2}{\\left(t \\right)}\\right)^{2} + \\left(\\frac{d}{d t} m_{3}{\\left(t \\right)}\\right)^{2}}} \\sqrt{\\left(\\frac{\\left(\\frac{d}{d t} m_{2}{\\left(t \\right)}\\right)^{2}}{\\sqrt{\\frac{\\left(\\frac{d}{d t} m_{2}{\\left(t \\right)}\\right)^{2}}{\\left(\\frac{d}{d t} m_{1}{\\left(t \\right)}\\right)^{2} + \\left(\\frac{d}{d t} m_{2}{\\left(t \\right)}\\right)^{2} + \\left(\\frac{d}{d t} m_{3}{\\left(t \\right)}\\right)^{2}} + \\frac{\\left(\\frac{d}{d t} m_{3}{\\left(t \\right)}\\right)^{2}}{\\left(\\frac{d}{d t} m_{1}{\\left(t \\right)}\\right)^{2} + \\left(\\frac{d}{d t} m_{2}{\\left(t \\right)}\\right)^{2} + \\left(\\frac{d}{d t} m_{3}{\\left(t \\right)}\\right)^{2}}} \\left(\\left(\\frac{d}{d t} m_{1}{\\left(t \\right)}\\right)^{2} + \\left(\\frac{d}{d t} m_{2}{\\left(t \\right)}\\right)^{2} + \\left(\\frac{d}{d t} m_{3}{\\left(t \\right)}\\right)^{2}\\right)} + \\frac{\\left(\\frac{d}{d t} m_{3}{\\left(t \\right)}\\right)^{2}}{\\sqrt{\\frac{\\left(\\frac{d}{d t} m_{2}{\\left(t \\right)}\\right)^{2}}{\\left(\\frac{d}{d t} m_{1}{\\left(t \\right)}\\right)^{2} + \\left(\\frac{d}{d t} m_{2}{\\left(t \\right)}\\right)^{2} + \\left(\\frac{d}{d t} m_{3}{\\left(t \\right)}\\right)^{2}} + \\frac{\\left(\\frac{d}{d t} m_{3}{\\left(t \\right)}\\right)^{2}}{\\left(\\frac{d}{d t} m_{1}{\\left(t \\right)}\\right)^{2} + \\left(\\frac{d}{d t} m_{2}{\\left(t \\right)}\\right)^{2} + \\left(\\frac{d}{d t} m_{3}{\\left(t \\right)}\\right)^{2}}} \\left(\\left(\\frac{d}{d t} m_{1}{\\left(t \\right)}\\right)^{2} + \\left(\\frac{d}{d t} m_{2}{\\left(t \\right)}\\right)^{2} + \\left(\\frac{d}{d t} m_{3}{\\left(t \\right)}\\right)^{2}\\right)}\\right)^{2} + \\frac{\\left(\\frac{d}{d t} m_{1}{\\left(t \\right)}\\right)^{2} \\left(\\frac{d}{d t} m_{2}{\\left(t \\right)}\\right)^{2}}{\\left(\\frac{\\left(\\frac{d}{d t} m_{2}{\\left(t \\right)}\\right)^{2}}{\\left(\\frac{d}{d t} m_{1}{\\left(t \\right)}\\right)^{2} + \\left(\\frac{d}{d t} m_{2}{\\left(t \\right)}\\right)^{2} + \\left(\\frac{d}{d t} m_{3}{\\left(t \\right)}\\right)^{2}} + \\frac{\\left(\\frac{d}{d t} m_{3}{\\left(t \\right)}\\right)^{2}}{\\left(\\frac{d}{d t} m_{1}{\\left(t \\right)}\\right)^{2} + \\left(\\frac{d}{d t} m_{2}{\\left(t \\right)}\\right)^{2} + \\left(\\frac{d}{d t} m_{3}{\\left(t \\right)}\\right)^{2}}\\right) \\left(\\left(\\frac{d}{d t} m_{1}{\\left(t \\right)}\\right)^{2} + \\left(\\frac{d}{d t} m_{2}{\\left(t \\right)}\\right)^{2} + \\left(\\frac{d}{d t} m_{3}{\\left(t \\right)}\\right)^{2}\\right)^{2}} + \\frac{\\left(\\frac{d}{d t} m_{1}{\\left(t \\right)}\\right)^{2} \\left(\\frac{d}{d t} m_{3}{\\left(t \\right)}\\right)^{2}}{\\left(\\frac{\\left(\\frac{d}{d t} m_{2}{\\left(t \\right)}\\right)^{2}}{\\left(\\frac{d}{d t} m_{1}{\\left(t \\right)}\\right)^{2} + \\left(\\frac{d}{d t} m_{2}{\\left(t \\right)}\\right)^{2} + \\left(\\frac{d}{d t} m_{3}{\\left(t \\right)}\\right)^{2}} + \\frac{\\left(\\frac{d}{d t} m_{3}{\\left(t \\right)}\\right)^{2}}{\\left(\\frac{d}{d t} m_{1}{\\left(t \\right)}\\right)^{2} + \\left(\\frac{d}{d t} m_{2}{\\left(t \\right)}\\right)^{2} + \\left(\\frac{d}{d t} m_{3}{\\left(t \\right)}\\right)^{2}}\\right) \\left(\\left(\\frac{d}{d t} m_{1}{\\left(t \\right)}\\right)^{2} + \\left(\\frac{d}{d t} m_{2}{\\left(t \\right)}\\right)^{2} + \\left(\\frac{d}{d t} m_{3}{\\left(t \\right)}\\right)^{2}\\right)^{2}}} \\left(\\left(\\frac{d}{d t} m_{1}{\\left(t \\right)}\\right)^{2} + \\left(\\frac{d}{d t} m_{2}{\\left(t \\right)}\\right)^{2} + \\left(\\frac{d}{d t} m_{3}{\\left(t \\right)}\\right)^{2}\\right)} - \\frac{\\left(z - m_{3}{\\left(t \\right)}\\right) \\frac{d}{d t} m_{1}{\\left(t \\right)} \\frac{d}{d t} m_{3}{\\left(t \\right)}}{\\sqrt{\\frac{\\left(\\frac{d}{d t} m_{2}{\\left(t \\right)}\\right)^{2}}{\\left(\\frac{d}{d t} m_{1}{\\left(t \\right)}\\right)^{2} + \\left(\\frac{d}{d t} m_{2}{\\left(t \\right)}\\right)^{2} + \\left(\\frac{d}{d t} m_{3}{\\left(t \\right)}\\right)^{2}} + \\frac{\\left(\\frac{d}{d t} m_{3}{\\left(t \\right)}\\right)^{2}}{\\left(\\frac{d}{d t} m_{1}{\\left(t \\right)}\\right)^{2} + \\left(\\frac{d}{d t} m_{2}{\\left(t \\right)}\\right)^{2} + \\left(\\frac{d}{d t} m_{3}{\\left(t \\right)}\\right)^{2}}} \\sqrt{\\left(\\frac{\\left(\\frac{d}{d t} m_{2}{\\left(t \\right)}\\right)^{2}}{\\sqrt{\\frac{\\left(\\frac{d}{d t} m_{2}{\\left(t \\right)}\\right)^{2}}{\\left(\\frac{d}{d t} m_{1}{\\left(t \\right)}\\right)^{2} + \\left(\\frac{d}{d t} m_{2}{\\left(t \\right)}\\right)^{2} + \\left(\\frac{d}{d t} m_{3}{\\left(t \\right)}\\right)^{2}} + \\frac{\\left(\\frac{d}{d t} m_{3}{\\left(t \\right)}\\right)^{2}}{\\left(\\frac{d}{d t} m_{1}{\\left(t \\right)}\\right)^{2} + \\left(\\frac{d}{d t} m_{2}{\\left(t \\right)}\\right)^{2} + \\left(\\frac{d}{d t} m_{3}{\\left(t \\right)}\\right)^{2}}} \\left(\\left(\\frac{d}{d t} m_{1}{\\left(t \\right)}\\right)^{2} + \\left(\\frac{d}{d t} m_{2}{\\left(t \\right)}\\right)^{2} + \\left(\\frac{d}{d t} m_{3}{\\left(t \\right)}\\right)^{2}\\right)} + \\frac{\\left(\\frac{d}{d t} m_{3}{\\left(t \\right)}\\right)^{2}}{\\sqrt{\\frac{\\left(\\frac{d}{d t} m_{2}{\\left(t \\right)}\\right)^{2}}{\\left(\\frac{d}{d t} m_{1}{\\left(t \\right)}\\right)^{2} + \\left(\\frac{d}{d t} m_{2}{\\left(t \\right)}\\right)^{2} + \\left(\\frac{d}{d t} m_{3}{\\left(t \\right)}\\right)^{2}} + \\frac{\\left(\\frac{d}{d t} m_{3}{\\left(t \\right)}\\right)^{2}}{\\left(\\frac{d}{d t} m_{1}{\\left(t \\right)}\\right)^{2} + \\left(\\frac{d}{d t} m_{2}{\\left(t \\right)}\\right)^{2} + \\left(\\frac{d}{d t} m_{3}{\\left(t \\right)}\\right)^{2}}} \\left(\\left(\\frac{d}{d t} m_{1}{\\left(t \\right)}\\right)^{2} + \\left(\\frac{d}{d t} m_{2}{\\left(t \\right)}\\right)^{2} + \\left(\\frac{d}{d t} m_{3}{\\left(t \\right)}\\right)^{2}\\right)}\\right)^{2} + \\frac{\\left(\\frac{d}{d t} m_{1}{\\left(t \\right)}\\right)^{2} \\left(\\frac{d}{d t} m_{2}{\\left(t \\right)}\\right)^{2}}{\\left(\\frac{\\left(\\frac{d}{d t} m_{2}{\\left(t \\right)}\\right)^{2}}{\\left(\\frac{d}{d t} m_{1}{\\left(t \\right)}\\right)^{2} + \\left(\\frac{d}{d t} m_{2}{\\left(t \\right)}\\right)^{2} + \\left(\\frac{d}{d t} m_{3}{\\left(t \\right)}\\right)^{2}} + \\frac{\\left(\\frac{d}{d t} m_{3}{\\left(t \\right)}\\right)^{2}}{\\left(\\frac{d}{d t} m_{1}{\\left(t \\right)}\\right)^{2} + \\left(\\frac{d}{d t} m_{2}{\\left(t \\right)}\\right)^{2} + \\left(\\frac{d}{d t} m_{3}{\\left(t \\right)}\\right)^{2}}\\right) \\left(\\left(\\frac{d}{d t} m_{1}{\\left(t \\right)}\\right)^{2} + \\left(\\frac{d}{d t} m_{2}{\\left(t \\right)}\\right)^{2} + \\left(\\frac{d}{d t} m_{3}{\\left(t \\right)}\\right)^{2}\\right)^{2}} + \\frac{\\left(\\frac{d}{d t} m_{1}{\\left(t \\right)}\\right)^{2} \\left(\\frac{d}{d t} m_{3}{\\left(t \\right)}\\right)^{2}}{\\left(\\frac{\\left(\\frac{d}{d t} m_{2}{\\left(t \\right)}\\right)^{2}}{\\left(\\frac{d}{d t} m_{1}{\\left(t \\right)}\\right)^{2} + \\left(\\frac{d}{d t} m_{2}{\\left(t \\right)}\\right)^{2} + \\left(\\frac{d}{d t} m_{3}{\\left(t \\right)}\\right)^{2}} + \\frac{\\left(\\frac{d}{d t} m_{3}{\\left(t \\right)}\\right)^{2}}{\\left(\\frac{d}{d t} m_{1}{\\left(t \\right)}\\right)^{2} + \\left(\\frac{d}{d t} m_{2}{\\left(t \\right)}\\right)^{2} + \\left(\\frac{d}{d t} m_{3}{\\left(t \\right)}\\right)^{2}}\\right) \\left(\\left(\\frac{d}{d t} m_{1}{\\left(t \\right)}\\right)^{2} + \\left(\\frac{d}{d t} m_{2}{\\left(t \\right)}\\right)^{2} + \\left(\\frac{d}{d t} m_{3}{\\left(t \\right)}\\right)^{2}\\right)^{2}}} \\left(\\left(\\frac{d}{d t} m_{1}{\\left(t \\right)}\\right)^{2} + \\left(\\frac{d}{d t} m_{2}{\\left(t \\right)}\\right)^{2} + \\left(\\frac{d}{d t} m_{3}{\\left(t \\right)}\\right)^{2}\\right)}\\right)^{2}}{b^{2}} + \\frac{\\left(\\frac{\\left(x - m_{1}{\\left(t \\right)}\\right) \\frac{d}{d t} m_{1}{\\left(t \\right)}}{\\sqrt{\\left(\\frac{d}{d t} m_{1}{\\left(t \\right)}\\right)^{2} + \\left(\\frac{d}{d t} m_{2}{\\left(t \\right)}\\right)^{2} + \\left(\\frac{d}{d t} m_{3}{\\left(t \\right)}\\right)^{2}}} + \\frac{\\left(y - m_{2}{\\left(t \\right)}\\right) \\frac{d}{d t} m_{2}{\\left(t \\right)}}{\\sqrt{\\left(\\frac{d}{d t} m_{1}{\\left(t \\right)}\\right)^{2} + \\left(\\frac{d}{d t} m_{2}{\\left(t \\right)}\\right)^{2} + \\left(\\frac{d}{d t} m_{3}{\\left(t \\right)}\\right)^{2}}} + \\frac{\\left(z - m_{3}{\\left(t \\right)}\\right) \\frac{d}{d t} m_{3}{\\left(t \\right)}}{\\sqrt{\\left(\\frac{d}{d t} m_{1}{\\left(t \\right)}\\right)^{2} + \\left(\\frac{d}{d t} m_{2}{\\left(t \\right)}\\right)^{2} + \\left(\\frac{d}{d t} m_{3}{\\left(t \\right)}\\right)^{2}}}\\right)^{2}}{a^{2}}\n"
     ]
    }
   ],
   "source": [
    "# Define symbols\n",
    "t, x, y, z = sp.symbols('t x y z')\n",
    "m_1 = sp.Function('m_1')(t)\n",
    "m_2 = sp.Function('m_2')(t)\n",
    "m_3 = sp.Function('m_3')(t)\n",
    "a, b = sp.symbols('a b')\n",
    "\n",
    "# Tangent vector\n",
    "tangency = [sp.diff(m_1, t), sp.diff(m_2, t), sp.diff(m_3, t)]\n",
    "t_normalized = [t_i / sp.sqrt(sum(ti**2 for ti in tangency)) for t_i in tangency]\n",
    "\n",
    "# Normal vector\n",
    "normal = [0, -t_normalized[2], t_normalized[1]]\n",
    "n_normalized = [n_i / sp.sqrt(sum(ni**2 for ni in normal)) for n_i in normal]\n",
    "\n",
    "# Binormal vector\n",
    "binormal = [t_normalized[1]*n_normalized[2] - t_normalized[2]*n_normalized[1],\n",
    "             t_normalized[2]*n_normalized[0] - t_normalized[0]*n_normalized[2],\n",
    "             t_normalized[0]*n_normalized[1] - t_normalized[1]*n_normalized[0]]\n",
    "b_normalized = [bi / sp.sqrt(sum(bi**2 for bi in binormal)) for bi in binormal]\n",
    "\n",
    "# Rotation matrix A\n",
    "A = sp.Matrix([t_normalized, n_normalized, b_normalized])\n",
    "\n",
    "# Curve\n",
    "curve = [x - m_1, y - m_2, z - m_3]\n",
    "U = A * sp.Matrix(curve)\n",
    "\n",
    "# Coefficients of the ellipsoid\n",
    "u = U[0]**2 / a**2\n",
    "v = U[1]**2 / b**2\n",
    "w = U[2]**2 / b**2\n",
    "ellipsoid = u + v + w - 1\n",
    "\n",
    "# Coefficients of the ellipsoid's quadratic form\n",
    "expr = sp.latex(ellipsoid)\n",
    "print(expr)\n"
   ]
  },
  {
   "cell_type": "code",
   "execution_count": 3,
   "metadata": {},
   "outputs": [],
   "source": [
    "derivation = sp.diff(ellipsoid, t)\n",
    "\n",
    "#expanded_expression = sp.expand(derivation)\n",
    "#print(expanded_expression)\n",
    "\n",
    "coefficients_x_sq = derivation.coeff(x**2)\n",
    "coefficients_y_sq = derivation.coeff(y**2)\n",
    "coefficients_z_sq = derivation.coeff(z**2)\n",
    "coefficients_xy = derivation.coeff(x*y)\n",
    "coefficients_yz = derivation.coeff(y*z)\n",
    "coefficients_xz = derivation.coeff(x*z)\n",
    "# Tu bolo potrebné odstrániť všetky koeficienty pri členoch x*y, x*z,..\n",
    "coef_x = derivation.coeff(x)\n",
    "terms_x = sp.Add(*coef_x.args) if isinstance(coef_x, sp.Add) else coef_x\n",
    "terms_x_filtered = [term for term in sp.Add.make_args(terms_x) if not term.has(y) and not term.has(z)]\n",
    "coefficients_x = sp.Add(*terms_x_filtered)\n",
    "\n",
    "coef_y = derivation.coeff(y)\n",
    "terms_y = sp.Add(*coef_y.args) if isinstance(coef_y, sp.Add) else coef_y\n",
    "terms_y_filtered = [term for term in sp.Add.make_args(terms_y) if not term.has(x) and not term.has(z)]\n",
    "coefficients_y = sp.Add(*terms_y_filtered)\n",
    "\n",
    "coef_z = derivation.coeff(z)\n",
    "terms_z = sp.Add(*coef_z.args) if isinstance(coef_z, sp.Add) else coef_z\n",
    "terms_z_filtered = [term for term in sp.Add.make_args(terms_z) if not term.has(x) and not term.has(y)]\n",
    "coefficients_z = sp.Add(*terms_z_filtered)\n",
    "\n",
    "coef_constant = derivation.coeff(1)\n",
    "terms = sp.Add(*coef_constant.args) if isinstance(coef_constant, sp.Add) else coef_constant\n",
    "terms_filtered = [term for term in sp.Add.make_args(terms) if not term.has(x) and not term.has(y) and not term.has(z)]\n",
    "coefficients_constant = sp.Add(*terms_filtered)"
   ]
  },
  {
   "cell_type": "code",
   "execution_count": 4,
   "metadata": {},
   "outputs": [
    {
     "name": "stdout",
     "output_type": "stream",
     "text": [
      "Coefficient of x^2: 0\n",
      "Coefficient of y^2: 0\n",
      "Coefficient of z^2: 0\n",
      "Coefficient of xy: 0\n",
      "Coefficient of yz: 0\n",
      "Coefficient of xz: 0\n",
      "Coefficient of x: 0\n",
      "Coefficient of y: 0\n",
      "Coefficient of z: 0\n",
      "Coefficient of constant term: 0\n"
     ]
    }
   ],
   "source": [
    "print(\"Coefficient of x^2:\", coefficients_x_sq)\n",
    "print(\"Coefficient of y^2:\", coefficients_y_sq)\n",
    "print(\"Coefficient of z^2:\", coefficients_z_sq)\n",
    "print(\"Coefficient of xy:\", coefficients_xy)\n",
    "print(\"Coefficient of yz:\", coefficients_yz)\n",
    "print(\"Coefficient of xz:\", coefficients_xz)\n",
    "print(\"Coefficient of x:\", coefficients_x)\n",
    "print(\"Coefficient of y:\", coefficients_y)\n",
    "print(\"Coefficient of z:\", coefficients_z)\n",
    "print(\"Coefficient of constant term:\", coefficients_constant)"
   ]
  },
  {
   "cell_type": "code",
   "execution_count": 5,
   "metadata": {},
   "outputs": [
    {
     "data": {
      "text/latex": [
       "$\\displaystyle \\left[\\begin{matrix}0 & 0 & 0 & 0\\\\0 & 0 & 0 & 0\\\\0 & 0 & 0 & 0\\\\0 & 0 & 0 & 0\\end{matrix}\\right]$"
      ],
      "text/plain": [
       "<IPython.core.display.Math object>"
      ]
     },
     "metadata": {},
     "output_type": "display_data"
    }
   ],
   "source": [
    "def matrix_of_quadrics(A, B, C, D, E, F, G, H, I, J):\n",
    "    row1 = [A, D/2, E/2, G/2]\n",
    "    row2 = [D/2, B, F/2, H/2]\n",
    "    row3 = [E/2, F/2, C, I/2]\n",
    "    row4 = [G/2, H/2, I/2, J]\n",
    "    matrix = sp.Matrix([row1, row2, row3, row4])\n",
    "    return matrix\n",
    "\n",
    "A = coefficients_x_sq\n",
    "B = coefficients_y_sq\n",
    "C = coefficients_z_sq\n",
    "D = coefficients_xy\n",
    "E = coefficients_yz\n",
    "F = coefficients_xz\n",
    "G = coefficients_x\n",
    "H = coefficients_y\n",
    "I = coefficients_z\n",
    "J = coefficients_constant\n",
    "\n",
    "result_matrix = matrix_of_quadrics(A, B, C, D, E, F, G, H, I, J)\n",
    "determinant = sp.det(result_matrix)\n",
    "display(Math(sp.latex(result_matrix)))"
   ]
  }
 ],
 "metadata": {
  "kernelspec": {
   "display_name": "Python 3",
   "language": "python",
   "name": "python3"
  },
  "language_info": {
   "codemirror_mode": {
    "name": "ipython",
    "version": 3
   },
   "file_extension": ".py",
   "mimetype": "text/x-python",
   "name": "python",
   "nbconvert_exporter": "python",
   "pygments_lexer": "ipython3",
   "version": "3.11.5"
  },
  "orig_nbformat": 4
 },
 "nbformat": 4,
 "nbformat_minor": 2
}
