{
 "cells": [
  {
   "cell_type": "code",
   "execution_count": 1,
   "metadata": {},
   "outputs": [],
   "source": [
    "import sympy as sp\n",
    "\n",
    "# Define symbols\n",
    "t = sp.symbols('t')\n",
    "c, d= sp.symbols('c d')"
   ]
  },
  {
   "cell_type": "code",
   "execution_count": 2,
   "metadata": {},
   "outputs": [
    {
     "name": "stdout",
     "output_type": "stream",
     "text": [
      "Matrix([[30*sin(t)**2*cos(t)], [-8*sin(t) + 6*sin(2*t) + 3*sin(3*t) + 4*sin(4*t)], [0]])\n",
      "Matrix([[-30*sin(t)**3 + 60*sin(t)*cos(t)**2], [-8*cos(t) + 12*cos(2*t) + 9*cos(3*t) + 16*cos(4*t)], [0]])\n",
      "Cross product of m' and m'': Matrix([[0], [0], [-(-30*sin(t)**3 + 60*sin(t)*cos(t)**2)*(-8*sin(t) + 6*sin(2*t) + 3*sin(3*t) + 4*sin(4*t)) + 30*(-8*cos(t) + 12*cos(2*t) + 9*cos(3*t) + 16*cos(4*t))*sin(t)**2*cos(t)]])\n",
      "Length:  ((-8*sin(t) + 6*sin(2*t) + 3*sin(3*t) + 4*sin(4*t))**2 + 900*sin(t)**4*cos(t)**2)**1.5\n",
      "Curvature: \\frac{15.0 \\left(\\left(8 \\left(1 - \\cos{\\left(2 t \\right)}\\right)^{2} \\sin{\\left(2 t \\right)} - 17 \\sin{\\left(t \\right)} - 30 \\sin{\\left(2 t \\right)} + 5 \\sin{\\left(3 t \\right)} + \\sin{\\left(4 t \\right)}\\right)^{2} \\sin^{2}{\\left(t \\right)}\\right)^{0.5}}{\\left(\\left(- 8 \\sin{\\left(t \\right)} + 6 \\sin{\\left(2 t \\right)} + 3 \\sin{\\left(3 t \\right)} + 4 \\sin{\\left(4 t \\right)}\\right)^{2} + 900 \\sin^{4}{\\left(t \\right)} \\cos^{2}{\\left(t \\right)}\\right)^{1.5}}\n"
     ]
    }
   ],
   "source": [
    "# Define parametric equations\n",
    "x = 10*sp.sin(t)**3\n",
    "y = 8*sp.cos(t)-3*sp.cos(2*t)-sp.cos(3*t)-sp.cos(4*t)\n",
    "z = 0\n",
    "\n",
    "m = sp.Matrix([x, y, z])\n",
    "# Compute the derivative of m with respect to t\n",
    "m_prime = m.diff(t)\n",
    "print(m_prime)\n",
    "\n",
    "m_double_prime = m_prime.diff(t)\n",
    "print(m_double_prime)\n",
    "\n",
    "# Compute curvature\n",
    "cross_product = m_prime.cross(m_double_prime)\n",
    "# Print the result\n",
    "print(\"Cross product of m' and m'':\", cross_product)\n",
    "length = (m_prime[0]**2 + m_prime[1]**2 + m_prime[2]**2)**(3/2)\n",
    "print(\"Length: \", length)\n",
    "\n",
    "numerator = (cross_product[0]**2 + cross_product[1]**2 + cross_product[2]**2)**(1/2)\n",
    "curvature = numerator / length\n",
    "\n",
    "# Print curvature\n",
    "print(\"Curvature:\", sp.latex(sp.simplify(curvature)))\n"
   ]
  }
 ],
 "metadata": {
  "kernelspec": {
   "display_name": "Python 3",
   "language": "python",
   "name": "python3"
  },
  "language_info": {
   "codemirror_mode": {
    "name": "ipython",
    "version": 3
   },
   "file_extension": ".py",
   "mimetype": "text/x-python",
   "name": "python",
   "nbconvert_exporter": "python",
   "pygments_lexer": "ipython3",
   "version": "3.11.5"
  },
  "orig_nbformat": 4
 },
 "nbformat": 4,
 "nbformat_minor": 2
}
