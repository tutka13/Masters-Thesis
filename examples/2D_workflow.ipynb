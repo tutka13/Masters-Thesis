{
 "cells": [
  {
   "cell_type": "code",
   "execution_count": 177,
   "metadata": {},
   "outputs": [],
   "source": [
    "import sympy as sp\n",
    "from IPython.display import display, Math\n",
    "import time\n",
    "start_time = time.time()"
   ]
  },
  {
   "cell_type": "code",
   "execution_count": 178,
   "metadata": {},
   "outputs": [],
   "source": [
    "# x, y sú súradnice bodov v R^2\n",
    "x, y = sp.symbols('x y')\n",
    "# t je parameter z intervalu I\n",
    "t = sp.Symbol('t')\n",
    "# a, b sú konštanty pre škálovanie elipsoidu, a - dotykový smer, b - normálový smer\n",
    "a, b = sp.symbols('a b')\n",
    "# všetky ostatné symboly sú parametre v parametrizácii krivky parametric_curve\n",
    "c, d = sp.symbols('c d')"
   ]
  },
  {
   "cell_type": "code",
   "execution_count": 179,
   "metadata": {},
   "outputs": [],
   "source": [
    "# Vstupné parametre\n",
    "# interval vyčíslenia krivky\n",
    "t_min = -10\n",
    "t_max = 10\n",
    "# parametre škálovania\n",
    "a_0 = 2\n",
    "b_0 = 1\n",
    "# parametre parametrizácie\n",
    "c_0 = 2\n",
    "d_0 = 1\n",
    "\n",
    "# parametrizácia krivky\n",
    "parametric_curve = sp.Matrix([sp.cos(t),sp.sin(t)]) \n",
    "curve_name = 'circle'"
   ]
  },
  {
   "cell_type": "code",
   "execution_count": 180,
   "metadata": {},
   "outputs": [],
   "source": [
    "# Vypočíta dotyčnicu a normálu pre parametric_curve\n",
    "def local_coordinate_system(parametric_curve): \n",
    "    t = sp.Symbol('t') \n",
    "    parametric_curve_first_derivation = sp.diff(parametric_curve, t)\n",
    "    T = parametric_curve_first_derivation / sp.sqrt(parametric_curve_first_derivation.dot(parametric_curve_first_derivation))\n",
    "    T = sp.simplify(T)\n",
    "    N = sp.Matrix([-T[1], T[0]])\n",
    "    N = sp.simplify(N)\n",
    "    return T, N\n",
    "\n",
    "# Vyrobí inverznú maticu prechodu \n",
    "def transition_matrix(T, N):\n",
    "    P = sp.Matrix.hstack(T, N)\n",
    "    return P.T\n",
    "\n",
    "def matrix_of_quadrics(A, B, C, D, E, F):\n",
    "    row1 = [A, B/2, D/2]\n",
    "    row2 = [B/2, C, E/2]\n",
    "    row3 = [D/2, E/2, F]\n",
    "    matrix = sp.Matrix([row1, row2, row3])\n",
    "    return matrix\n",
    "\n",
    "# Krivost krivky\n",
    "def curvature(parametric_curve):\n",
    "    # Compute derivatives\n",
    "    parametric_curve_prime = sp.diff(parametric_curve, t)\n",
    "    parametric_curve_double_prime = sp.diff(parametric_curve_prime, t)\n",
    "\n",
    "    # Compute curvature\n",
    "    numerator = sp.Abs(parametric_curve_prime[0] * parametric_curve_double_prime[1] - parametric_curve_double_prime[0] * parametric_curve_prime[1])\n",
    "    denominator = (parametric_curve_prime[0]**2 + parametric_curve_prime[1]**2)**(3/2)\n",
    "    return numerator / denominator"
   ]
  },
  {
   "cell_type": "code",
   "execution_count": 181,
   "metadata": {},
   "outputs": [],
   "source": [
    "# Výpočet vektorov\n",
    "T, N = local_coordinate_system(parametric_curve)\n",
    "# Zostavenie matice\n",
    "P = transition_matrix(T, N)\n",
    "# Maticou P vynásobíme vektor (X-parametric_curve) a tak zmeníme bázu elipsy\n",
    "vector = sp.Matrix([x - parametric_curve[0], y - parametric_curve[1]])\n",
    "result_vector = P * vector\n",
    "ellipse_in_new_basis = result_vector[0]**2/a**2 + result_vector[1]**2/b**2 - 1\n",
    "# Derivácia jednoparametrického systému elíps \n",
    "derivation = sp.diff(ellipse_in_new_basis, t)"
   ]
  },
  {
   "cell_type": "code",
   "execution_count": 182,
   "metadata": {},
   "outputs": [
    {
     "name": "stdout",
     "output_type": "stream",
     "text": [
      "Coefficient of x^2:\n"
     ]
    },
    {
     "data": {
      "text/latex": [
       "$\\displaystyle - \\frac{\\sin{\\left(2 t \\right)}}{b^{2}} + \\frac{\\sin{\\left(2 t \\right)}}{a^{2}}$"
      ],
      "text/plain": [
       "<IPython.core.display.Math object>"
      ]
     },
     "metadata": {},
     "output_type": "display_data"
    },
    {
     "name": "stdout",
     "output_type": "stream",
     "text": [
      "- \\frac{\\sin{\\left(2 t \\right)}}{b^{2}} + \\frac{\\sin{\\left(2 t \\right)}}{a^{2}}\n",
      "Coefficient of y^2:\n"
     ]
    },
    {
     "data": {
      "text/latex": [
       "$\\displaystyle \\frac{\\sin{\\left(2 t \\right)}}{b^{2}} - \\frac{\\sin{\\left(2 t \\right)}}{a^{2}}$"
      ],
      "text/plain": [
       "<IPython.core.display.Math object>"
      ]
     },
     "metadata": {},
     "output_type": "display_data"
    },
    {
     "name": "stdout",
     "output_type": "stream",
     "text": [
      "\\frac{\\sin{\\left(2 t \\right)}}{b^{2}} - \\frac{\\sin{\\left(2 t \\right)}}{a^{2}}\n",
      "Coefficient of xy:\n"
     ]
    },
    {
     "data": {
      "text/latex": [
       "$\\displaystyle \\frac{2 \\left(a^{2} - b^{2}\\right) \\cos{\\left(2 t \\right)}}{a^{2} b^{2}}$"
      ],
      "text/plain": [
       "<IPython.core.display.Math object>"
      ]
     },
     "metadata": {},
     "output_type": "display_data"
    },
    {
     "name": "stdout",
     "output_type": "stream",
     "text": [
      "\\frac{2 \\left(a^{2} - b^{2}\\right) \\cos{\\left(2 t \\right)}}{a^{2} b^{2}}\n",
      "Coefficient of x:\n"
     ]
    },
    {
     "data": {
      "text/latex": [
       "$\\displaystyle \\frac{2 \\sin{\\left(t \\right)}}{b^{2}}$"
      ],
      "text/plain": [
       "<IPython.core.display.Math object>"
      ]
     },
     "metadata": {},
     "output_type": "display_data"
    },
    {
     "name": "stdout",
     "output_type": "stream",
     "text": [
      "\\frac{2 \\sin{\\left(t \\right)}}{b^{2}}\n",
      "Coefficient of y:\n"
     ]
    },
    {
     "data": {
      "text/latex": [
       "$\\displaystyle - \\frac{2 \\cos{\\left(t \\right)}}{b^{2}}$"
      ],
      "text/plain": [
       "<IPython.core.display.Math object>"
      ]
     },
     "metadata": {},
     "output_type": "display_data"
    },
    {
     "name": "stdout",
     "output_type": "stream",
     "text": [
      "- \\frac{2 \\cos{\\left(t \\right)}}{b^{2}}\n",
      "Coefficient of constant term:\n"
     ]
    },
    {
     "data": {
      "text/latex": [
       "$\\displaystyle 0$"
      ],
      "text/plain": [
       "<IPython.core.display.Math object>"
      ]
     },
     "metadata": {},
     "output_type": "display_data"
    },
    {
     "name": "stdout",
     "output_type": "stream",
     "text": [
      "0\n"
     ]
    }
   ],
   "source": [
    "# Výpočet, o aký typ kužeľosečky ide\n",
    "# Najprv potrebujeme extrahovať koeficienty z derivácie\n",
    "expanded_expression = sp.expand(derivation)\n",
    "A = expanded_expression.coeff(x**2)\n",
    "B = expanded_expression.coeff(x*y)\n",
    "C = expanded_expression.coeff(y**2)\n",
    "\n",
    "# Tu bolo potrebné odstrániť všetky koeficienty pri členoch x*y, x*z,..\n",
    "coef_x = expanded_expression.coeff(x)\n",
    "terms_x = sp.Add(*coef_x.args) if isinstance(coef_x, sp.Add) else coef_x\n",
    "terms_x_filtered = [term for term in sp.Add.make_args(terms_x) if not term.has(y)]\n",
    "D = sp.Add(*terms_x_filtered)\n",
    "\n",
    "coef_y = expanded_expression.coeff(y)\n",
    "terms_y = sp.Add(*coef_y.args) if isinstance(coef_y, sp.Add) else coef_y\n",
    "terms_y_filtered = [term for term in sp.Add.make_args(terms_y) if not term.has(x)]\n",
    "E = sp.Add(*terms_y_filtered)\n",
    "\n",
    "# Tu bolo potrebné odstrániť všetky koeficienty pri členoch x, y, z\n",
    "terms = sp.Add(*expanded_expression.args) if isinstance(expanded_expression, sp.Add) else expanded_expression\n",
    "terms_filtered = [term for term in sp.Add.make_args(terms) if not term.has(x) and not term.has(y)]\n",
    "F = sp.Add(*terms_filtered)\n",
    "\n",
    "matrix_of_derivation = matrix_of_quadrics(A, B, C, D, E, F)\n",
    "\n",
    "# Print koeficientov\n",
    "print(\"Coefficient of x^2:\")\n",
    "display(Math(sp.latex(sp.simplify(A))))\n",
    "print(sp.latex(sp.simplify(A)))\n",
    "print(\"Coefficient of y^2:\")\n",
    "display(Math(sp.latex(sp.simplify(C))))\n",
    "print(sp.latex(sp.simplify(C)))\n",
    "print(\"Coefficient of xy:\") \n",
    "display(Math(sp.latex(sp.simplify(B))))\n",
    "print(sp.latex(sp.simplify(B)))\n",
    "print(\"Coefficient of x:\")\n",
    "display(Math(sp.latex(sp.simplify(D))))\n",
    "print(sp.latex(sp.simplify(D)))\n",
    "print(\"Coefficient of y:\")\n",
    "display(Math(sp.latex(sp.simplify(E))))\n",
    "print(sp.latex(sp.simplify(E)))\n",
    "print(\"Coefficient of constant term:\")\n",
    "display(Math(sp.latex(sp.simplify(F))))\n",
    "print(sp.latex(sp.simplify(F)))\n",
    "\n",
    "# Typ kužeľosečky\n",
    "determinant = sp.det(matrix_of_derivation)\n",
    "subdeterminant = A*C-B**2/4"
   ]
  },
  {
   "cell_type": "code",
   "execution_count": 183,
   "metadata": {},
   "outputs": [],
   "source": [
    "# Vektory krivky a dalsie funkcie\n",
    "parametric_curve_prime = sp.simplify(sp.diff(parametric_curve, t))\n",
    "norm = sp.simplify(sp.sqrt(parametric_curve_prime[0]**2+parametric_curve_prime[1]**2))\n",
    "#print('Norma: ' + str(sp.latex(norm)))\n",
    "\n",
    "parametric_curve_double_prime = sp.diff(parametric_curve_prime, t)\n",
    "alpha = parametric_curve_prime[1]*(parametric_curve_double_prime[0]*parametric_curve_prime[1]-parametric_curve_prime[0]*parametric_curve_double_prime[1])\n",
    "beta = parametric_curve_prime[0]*(parametric_curve_double_prime[1]*parametric_curve_prime[0]-parametric_curve_double_prime[0]*parametric_curve_prime[1])\n",
    "gamma = -alpha*parametric_curve[0]-beta*parametric_curve[1]-(b**2*(parametric_curve_prime[0]**2+parametric_curve_prime[1]**2)**2)/(b**2-a**2)\n",
    "\n",
    "# Funkcia vzdialenosti\n",
    "rho = abs(alpha*parametric_curve[0]+beta*parametric_curve[1]+gamma)/(sp.sqrt(alpha**2+beta**2))\n",
    "\n",
    "# Pomer skalovania\n",
    "ratio = abs(b/a**2 - b**2)"
   ]
  },
  {
   "cell_type": "code",
   "execution_count": 184,
   "metadata": {},
   "outputs": [],
   "source": [
    "# Rozklad derivacie na priamky\n",
    "p_t = parametric_curve_prime[0]*x+parametric_curve_prime[1]*y-(parametric_curve_prime[0]*parametric_curve[0]+parametric_curve_prime[1]*parametric_curve[1])\n",
    "q_t = alpha*x+beta*y+gamma\n",
    "\n",
    "curvature = sp.simplify(curvature(parametric_curve))"
   ]
  },
  {
   "cell_type": "code",
   "execution_count": 185,
   "metadata": {},
   "outputs": [],
   "source": [
    "# Ukončenie merania času\n",
    "end_time = time.time()\n",
    "elapsed_time = end_time - start_time"
   ]
  },
  {
   "cell_type": "code",
   "execution_count": 186,
   "metadata": {},
   "outputs": [
    {
     "name": "stdout",
     "output_type": "stream",
     "text": [
      "Matrix([[cos(t)], [sin(t)]])\n",
      "Systém: \n"
     ]
    },
    {
     "data": {
      "text/latex": [
       "$\\displaystyle -1 + \\frac{\\left(x \\cos{\\left(t \\right)} + y \\sin{\\left(t \\right)} - 1\\right)^{2}}{b^{2}} + \\frac{\\left(x \\sin{\\left(t \\right)} - y \\cos{\\left(t \\right)}\\right)^{2}}{a^{2}}$"
      ],
      "text/plain": [
       "<IPython.core.display.Math object>"
      ]
     },
     "metadata": {},
     "output_type": "display_data"
    },
    {
     "name": "stdout",
     "output_type": "stream",
     "text": [
      "Derivácia sytému: \n"
     ]
    },
    {
     "data": {
      "text/latex": [
       "$\\displaystyle \\frac{2 \\left(- a^{2} \\left(x \\cos{\\left(t \\right)} + y \\sin{\\left(t \\right)} - 1\\right) + b^{2} \\left(x \\cos{\\left(t \\right)} + y \\sin{\\left(t \\right)}\\right)\\right) \\left(x \\sin{\\left(t \\right)} - y \\cos{\\left(t \\right)}\\right)}{a^{2} b^{2}}$"
      ],
      "text/plain": [
       "<IPython.core.display.Math object>"
      ]
     },
     "metadata": {},
     "output_type": "display_data"
    },
    {
     "name": "stdout",
     "output_type": "stream",
     "text": [
      "Determinant derivácie: \n"
     ]
    },
    {
     "data": {
      "text/latex": [
       "$\\displaystyle 0$"
      ],
      "text/plain": [
       "<IPython.core.display.Math object>"
      ]
     },
     "metadata": {},
     "output_type": "display_data"
    },
    {
     "data": {
      "text/latex": [
       "$\\displaystyle - \\frac{\\left(a - b\\right)^{2} \\left(a + b\\right)^{2}}{a^{4} b^{4}}$"
      ],
      "text/plain": [
       "<IPython.core.display.Math object>"
      ]
     },
     "metadata": {},
     "output_type": "display_data"
    },
    {
     "name": "stdout",
     "output_type": "stream",
     "text": [
      "Krivosť: 1\n",
      "Pomer: \\left|{b^{2} - \\frac{b}{a^{2}}}\\right|\n",
      "Rho: \\frac{\\left|{\\frac{b^{2} \\left(\\sin^{2}{\\left(t \\right)} + \\cos^{2}{\\left(t \\right)}\\right)^{2}}{a^{2} - b^{2}}}\\right|}{\\sqrt{\\left(- \\sin^{2}{\\left(t \\right)} - \\cos^{2}{\\left(t \\right)}\\right)^{2} \\cos^{2}{\\left(t \\right)} + \\left(\\sin^{2}{\\left(t \\right)} + \\cos^{2}{\\left(t \\right)}\\right)^{2} \\sin^{2}{\\left(t \\right)}}}\n",
      "p_t: - x \\sin{\\left(t \\right)} + y \\cos{\\left(t \\right)}\n",
      "q_t: \\frac{b^{2} + \\left(a^{2} - b^{2}\\right) \\left(- x \\cos{\\left(t \\right)} - y \\sin{\\left(t \\right)} + 1\\right)}{a^{2} - b^{2}}\n",
      "Dotykový vektor: (- \\sin{\\left(t \\right)}, \\cos{\\left(t \\right)})\n",
      "Normálový vektor: (\\cos{\\left(t \\right)}, - \\sin{\\left(t \\right)})\n",
      "Čas: \n",
      "1.5121018886566162 seconds\n"
     ]
    }
   ],
   "source": [
    "# Zápis do súboru\n",
    "print(parametric_curve)\n",
    "print(\"Systém: \")\n",
    "system = sp.latex(sp.simplify(ellipse_in_new_basis))\n",
    "display(Math(system))\n",
    "\n",
    "print(\"Derivácia sytému: \")\n",
    "der = sp.latex(sp.simplify(derivation))\n",
    "display(Math(der))\n",
    "\n",
    "print(\"Determinant derivácie: \")\n",
    "display(Math(sp.latex(sp.simplify(determinant))))\n",
    "\n",
    "expression = sp.latex(sp.simplify(subdeterminant))\n",
    "display(Math(expression))\n",
    "\n",
    "print('Krivosť: ' + sp.latex(curvature))\n",
    "print('Pomer: ' + sp.latex(ratio))\n",
    "print('Rho: ' + sp.latex(rho))\n",
    "print('p_t: ' + sp.latex(sp.simplify(p_t)))\n",
    "print('q_t: ' + sp.latex(sp.simplify(q_t)))\n",
    "\n",
    "print('Dotykový vektor: (' + str(sp.latex(parametric_curve_prime[0]/norm)) + ', ' + str(sp.latex(parametric_curve_prime[1]/norm))+ ')')\n",
    "print('Normálový vektor: (' + str(sp.latex(parametric_curve_prime[1]/norm)) + ', ' + str(sp.latex(parametric_curve_prime[0]/norm)) + ')')\n",
    "\n",
    "print(\"Čas: \")\n",
    "print(elapsed_time, \"seconds\")\n"
   ]
  },
  {
   "cell_type": "code",
   "execution_count": 187,
   "metadata": {},
   "outputs": [],
   "source": [
    "with open('2D_examples/' + curve_name + '.txt', \"w\") as file:\n",
    "    # Write content to the file\n",
    "    file.write(f\"{curve_name} {parametric_curve}\\n\")\n",
    "    file.write('System:\\n')\n",
    "    file.write(f\"{system} = 0\\n\")\n",
    "    file.write('Derivation:\\n')\n",
    "    file.write(f\"{der} = 0\\n\")\n",
    "    file.write('Time:\\n')\n",
    "    file.write(f\"{elapsed_time}\\n\")\n",
    "    file.write('Determinant:\\n')\n",
    "    file.write(f\"{determinant}\\n\")\n",
    "    file.write('Subdeterminant:\\n')\n",
    "    file.write(f\"{expression}\\n\")\n",
    "    file.write('Curvature:\\n')\n",
    "    file.write(f\"{sp.latex(curvature)}\\n\")\n",
    "    file.write('Ratio:\\n')\n",
    "    file.write(f\"{sp.latex(ratio)}\\n\")\n",
    "    file.write('Rho:\\n')\n",
    "    file.write(f\"{sp.latex(rho)}\\n\")\n",
    "    file.write('p_t:\\n')\n",
    "    file.write(f\"{sp.latex(p_t)}\\n\")\n",
    "    file.write('q_t:\\n')\n",
    "    file.write(f\"{sp.latex(q_t)}\\n\")"
   ]
  }
 ],
 "metadata": {
  "kernelspec": {
   "display_name": "Python 3",
   "language": "python",
   "name": "python3"
  },
  "language_info": {
   "codemirror_mode": {
    "name": "ipython",
    "version": 3
   },
   "file_extension": ".py",
   "mimetype": "text/x-python",
   "name": "python",
   "nbconvert_exporter": "python",
   "pygments_lexer": "ipython3",
   "version": "3.11.5"
  },
  "orig_nbformat": 4
 },
 "nbformat": 4,
 "nbformat_minor": 2
}
