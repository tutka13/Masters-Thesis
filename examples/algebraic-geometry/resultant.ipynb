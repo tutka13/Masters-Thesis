{
 "cells": [
  {
   "cell_type": "code",
   "execution_count": 21,
   "metadata": {},
   "outputs": [],
   "source": [
    "import sympy as sp"
   ]
  },
  {
   "cell_type": "code",
   "execution_count": 22,
   "metadata": {},
   "outputs": [
    {
     "name": "stdout",
     "output_type": "stream",
     "text": [
      "Resultant of the polynomials f and g with respect to t:\n",
      "4*x**3 + 27*y**2\n"
     ]
    }
   ],
   "source": [
    "# General case\n",
    "\n",
    "# Define the variables\n",
    "t, x, y = sp.symbols('t x y')\n",
    "\n",
    "# Define the polynomials\n",
    "f = t**3 + t*x + y\n",
    "g = 3*t**2 + x\n",
    "\n",
    "# Calculate the resultant with respect to t\n",
    "resultant = sp.resultant(f, g, t)\n",
    "\n",
    "# Print the resultant\n",
    "print(\"Resultant of the polynomials f and g with respect to t:\")\n",
    "print(resultant)"
   ]
  },
  {
   "cell_type": "code",
   "execution_count": 23,
   "metadata": {},
   "outputs": [
    {
     "name": "stdout",
     "output_type": "stream",
     "text": [
      "Resultant of the polynomials F and F' with respect to t:\n",
      "191102976*x**10 + 262144*x**8*y**6 - 9584640*x**8*y**4 + 83165184*x**8*y**2 - 633470976*x**8 - 16384*x**6*y**10 - 81920*x**6*y**8 - 14483456*x**6*y**6 - 113311744*x**6*y**4 + 96419840*x**6*y**2 + 698368000*x**6 - 16384*x**4*y**12 - 294912*x**4*y**10 - 2998272*x**4*y**8 - 18284544*x**4*y**6 - 74956800*x**4*y**4 - 184320000*x**4*y**2 - 256000000*x**4\n",
      "Python:\n",
      "191102976*X**10 + 262144*X**8*Y**6 - 9584640*X**8*Y**4 + 83165184*X**8*Y**2 - 633470976*X**8 - 16384*X**6*Y**10 - 81920*X**6*Y**8 - 14483456*X**6*Y**6 - 113311744*X**6*Y**4 + 96419840*X**6*Y**2 + 698368000*X**6 - 16384*X**4*Y**12 - 294912*X**4*Y**10 - 2998272*X**4*Y**8 - 18284544*X**4*Y**6 - 74956800*X**4*Y**4 - 184320000*X**4*Y**2 - 256000000*X**4\n",
      "LaTeX:\n",
      "191102976x^10 + 262144x^8x^6 - 9584640x^8x^4 + 83165184x^8x^2 - 633470976x^8 - 16384x^6x^10 - 81920x^6x^8 - 14483456x^6x^6 - 113311744x^6x^4 + 96419840x^6x^2 + 698368000x^6 - 16384x^4x^12 - 294912x^4x^10 - 2998272x^4x^8 - 18284544x^4x^6 - 74956800x^4x^4 - 184320000x^4x^2 - 256000000x^4\n"
     ]
    }
   ],
   "source": [
    "# Our case\n",
    "\n",
    "input = [\"4*t**6-4*y*t**5+y**2*t**4+7*t**4-8*y*t**3+2*y**2*t**2+2*t**2-4*y*t+y**2+x**2-1\",\n",
    "         \"24*t**5-20*y*t**4+4*y**2*t**3+28*t**3-24*y*t**2+4*y**2*t+4*t-4*y\"]\n",
    "\n",
    "polynomials = []\n",
    "\n",
    "for inputs in input:\n",
    "    polynomials.append(sp.sympify(inputs))\n",
    "\n",
    "# Define the variables\n",
    "t, x, y = sp.symbols('t x y')\n",
    "\n",
    "# Calculate the resultant with respect to t\n",
    "resultant = sp.resultant(polynomials[0], polynomials[1], t)\n",
    "\n",
    "# Print the resultant\n",
    "print(\"Resultant of the polynomials F and F' with respect to t:\")\n",
    "\n",
    "# In repair string is stored value of resultant, some signs will be replaces for further use different software\n",
    "repair = str(resultant)\n",
    "print(repair)\n",
    "#repair = \"191102976*x**10 + 262144*x**8*y**6 - 9584640*x**8*y**4 + 83165184*x**8*y**2 - 633470976*x**8 - 16384*x**6*y**10 - 81920*x**6*y**8 - 14483456*x**6*y**6 - 113311744*x**6*y**4 + 96419840*x**6*y**2 + 698368000*x**6 - 16384*x**4*y**12 - 294912*x**4*y**10 - 2998272*x**4*y**8 - 18284544*x**4*y**6 - 74956800*x**4*y**4 - 184320000*x**4*y**2 - 256000000*x**4\"\n",
    "\n",
    "resultant_string = repair.replace(\"x\", \"X\")\n",
    "resultant_string = resultant_string.replace(\"y\", \"Y\")\n",
    "\n",
    "print(\"Python:\")\n",
    "print(resultant_string)\n",
    "\n",
    "resultant_string = resultant_string.replace(\"**\", \"^\")\n",
    "resultant_string = resultant_string.replace(\"X\", \"x\")\n",
    "resultant_string = resultant_string.replace(\"Y\", \"x\")\n",
    "resultant_string = resultant_string.replace(\"*\", \"\")\n",
    "print(\"LaTeX:\")\n",
    "print(resultant_string)\n"
   ]
  }
 ],
 "metadata": {
  "kernelspec": {
   "display_name": "Python 3",
   "language": "python",
   "name": "python3"
  },
  "language_info": {
   "codemirror_mode": {
    "name": "ipython",
    "version": 3
   },
   "file_extension": ".py",
   "mimetype": "text/x-python",
   "name": "python",
   "nbconvert_exporter": "python",
   "pygments_lexer": "ipython3",
   "version": "3.11.5"
  },
  "orig_nbformat": 4
 },
 "nbformat": 4,
 "nbformat_minor": 2
}
