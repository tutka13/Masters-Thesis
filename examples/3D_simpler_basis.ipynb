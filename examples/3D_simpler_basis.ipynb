{
 "cells": [
  {
   "cell_type": "code",
   "execution_count": 67,
   "metadata": {},
   "outputs": [],
   "source": [
    "import sympy as sp\n",
    "from IPython.display import display, Math\n",
    "import time\n",
    "import sys\n",
    "sys.path.append('C:/Program Files/Blender Foundation/Blender 4.0/4.0/scripts/modules')\n",
    "import envelopes as en\n",
    "import importlib\n",
    "importlib.reload(en)\n",
    "start_time = time.time()"
   ]
  },
  {
   "cell_type": "code",
   "execution_count": 68,
   "metadata": {},
   "outputs": [],
   "source": [
    "# x, y, z sú súradnice bodov v R^3\n",
    "x, y, z = sp.symbols('x y z')\n",
    "# t, s sú parametre z intervalu I\n",
    "t, s = sp.symbols('t, s')\n",
    "# a, b sú konštanty pre škálovanie elipsoidu, a - dotykový smer, b - normálový a binormálový smer\n",
    "a, b = sp.symbols('a b')\n",
    "# všetky ostatné symboly sú parametre v parametrizácii krivky parametric_curve\n",
    "c, d = sp.symbols('c d')"
   ]
  },
  {
   "cell_type": "code",
   "execution_count": 69,
   "metadata": {},
   "outputs": [],
   "source": [
    "# Vstupné parametre\n",
    "curve_parametrization = sp.Matrix([sp.cos(t), sp.sin(t), t]) # parametrizácia krivky\n",
    "# interval vyčíslenia krivky\n",
    "s_min = -10\n",
    "s_max = 11\n",
    "# parametre škálovania\n",
    "a_0 = 2\n",
    "b_0 = 1\n",
    "# parametre krivky\n",
    "c_0 = 1\n",
    "d_0 = 2"
   ]
  },
  {
   "cell_type": "code",
   "execution_count": 70,
   "metadata": {},
   "outputs": [
    {
     "data": {
      "text/latex": [
       "$\\displaystyle \\left[\\begin{matrix}- \\frac{\\sin{\\left(t \\right)}}{\\sqrt{\\sin^{2}{\\left(t \\right)} + \\cos^{2}{\\left(t \\right)} + 1}} & \\frac{\\cos{\\left(t \\right)}}{\\sqrt{\\sin^{2}{\\left(t \\right)} + \\cos^{2}{\\left(t \\right)} + 1}} & \\frac{1}{\\sqrt{\\sin^{2}{\\left(t \\right)} + \\cos^{2}{\\left(t \\right)} + 1}}\\\\0 & - \\frac{1}{\\sqrt{\\frac{\\cos^{2}{\\left(t \\right)}}{\\sin^{2}{\\left(t \\right)} + \\cos^{2}{\\left(t \\right)} + 1} + \\frac{1}{\\sin^{2}{\\left(t \\right)} + \\cos^{2}{\\left(t \\right)} + 1}} \\sqrt{\\sin^{2}{\\left(t \\right)} + \\cos^{2}{\\left(t \\right)} + 1}} & \\frac{\\cos{\\left(t \\right)}}{\\sqrt{\\frac{\\cos^{2}{\\left(t \\right)}}{\\sin^{2}{\\left(t \\right)} + \\cos^{2}{\\left(t \\right)} + 1} + \\frac{1}{\\sin^{2}{\\left(t \\right)} + \\cos^{2}{\\left(t \\right)} + 1}} \\sqrt{\\sin^{2}{\\left(t \\right)} + \\cos^{2}{\\left(t \\right)} + 1}}\\\\\\frac{\\frac{\\cos^{2}{\\left(t \\right)}}{\\sqrt{\\frac{\\cos^{2}{\\left(t \\right)}}{\\sin^{2}{\\left(t \\right)} + \\cos^{2}{\\left(t \\right)} + 1} + \\frac{1}{\\sin^{2}{\\left(t \\right)} + \\cos^{2}{\\left(t \\right)} + 1}} \\left(\\sin^{2}{\\left(t \\right)} + \\cos^{2}{\\left(t \\right)} + 1\\right)} + \\frac{1}{\\sqrt{\\frac{\\cos^{2}{\\left(t \\right)}}{\\sin^{2}{\\left(t \\right)} + \\cos^{2}{\\left(t \\right)} + 1} + \\frac{1}{\\sin^{2}{\\left(t \\right)} + \\cos^{2}{\\left(t \\right)} + 1}} \\left(\\sin^{2}{\\left(t \\right)} + \\cos^{2}{\\left(t \\right)} + 1\\right)}}{\\sqrt{\\left(\\frac{\\cos^{2}{\\left(t \\right)}}{\\sqrt{\\frac{\\cos^{2}{\\left(t \\right)}}{\\sin^{2}{\\left(t \\right)} + \\cos^{2}{\\left(t \\right)} + 1} + \\frac{1}{\\sin^{2}{\\left(t \\right)} + \\cos^{2}{\\left(t \\right)} + 1}} \\left(\\sin^{2}{\\left(t \\right)} + \\cos^{2}{\\left(t \\right)} + 1\\right)} + \\frac{1}{\\sqrt{\\frac{\\cos^{2}{\\left(t \\right)}}{\\sin^{2}{\\left(t \\right)} + \\cos^{2}{\\left(t \\right)} + 1} + \\frac{1}{\\sin^{2}{\\left(t \\right)} + \\cos^{2}{\\left(t \\right)} + 1}} \\left(\\sin^{2}{\\left(t \\right)} + \\cos^{2}{\\left(t \\right)} + 1\\right)}\\right)^{2} + \\frac{\\sin^{2}{\\left(t \\right)} \\cos^{2}{\\left(t \\right)}}{\\left(\\frac{\\cos^{2}{\\left(t \\right)}}{\\sin^{2}{\\left(t \\right)} + \\cos^{2}{\\left(t \\right)} + 1} + \\frac{1}{\\sin^{2}{\\left(t \\right)} + \\cos^{2}{\\left(t \\right)} + 1}\\right) \\left(\\sin^{2}{\\left(t \\right)} + \\cos^{2}{\\left(t \\right)} + 1\\right)^{2}} + \\frac{\\sin^{2}{\\left(t \\right)}}{\\left(\\frac{\\cos^{2}{\\left(t \\right)}}{\\sin^{2}{\\left(t \\right)} + \\cos^{2}{\\left(t \\right)} + 1} + \\frac{1}{\\sin^{2}{\\left(t \\right)} + \\cos^{2}{\\left(t \\right)} + 1}\\right) \\left(\\sin^{2}{\\left(t \\right)} + \\cos^{2}{\\left(t \\right)} + 1\\right)^{2}}}} & \\frac{\\sin{\\left(t \\right)} \\cos{\\left(t \\right)}}{\\sqrt{\\frac{\\cos^{2}{\\left(t \\right)}}{\\sin^{2}{\\left(t \\right)} + \\cos^{2}{\\left(t \\right)} + 1} + \\frac{1}{\\sin^{2}{\\left(t \\right)} + \\cos^{2}{\\left(t \\right)} + 1}} \\sqrt{\\left(\\frac{\\cos^{2}{\\left(t \\right)}}{\\sqrt{\\frac{\\cos^{2}{\\left(t \\right)}}{\\sin^{2}{\\left(t \\right)} + \\cos^{2}{\\left(t \\right)} + 1} + \\frac{1}{\\sin^{2}{\\left(t \\right)} + \\cos^{2}{\\left(t \\right)} + 1}} \\left(\\sin^{2}{\\left(t \\right)} + \\cos^{2}{\\left(t \\right)} + 1\\right)} + \\frac{1}{\\sqrt{\\frac{\\cos^{2}{\\left(t \\right)}}{\\sin^{2}{\\left(t \\right)} + \\cos^{2}{\\left(t \\right)} + 1} + \\frac{1}{\\sin^{2}{\\left(t \\right)} + \\cos^{2}{\\left(t \\right)} + 1}} \\left(\\sin^{2}{\\left(t \\right)} + \\cos^{2}{\\left(t \\right)} + 1\\right)}\\right)^{2} + \\frac{\\sin^{2}{\\left(t \\right)} \\cos^{2}{\\left(t \\right)}}{\\left(\\frac{\\cos^{2}{\\left(t \\right)}}{\\sin^{2}{\\left(t \\right)} + \\cos^{2}{\\left(t \\right)} + 1} + \\frac{1}{\\sin^{2}{\\left(t \\right)} + \\cos^{2}{\\left(t \\right)} + 1}\\right) \\left(\\sin^{2}{\\left(t \\right)} + \\cos^{2}{\\left(t \\right)} + 1\\right)^{2}} + \\frac{\\sin^{2}{\\left(t \\right)}}{\\left(\\frac{\\cos^{2}{\\left(t \\right)}}{\\sin^{2}{\\left(t \\right)} + \\cos^{2}{\\left(t \\right)} + 1} + \\frac{1}{\\sin^{2}{\\left(t \\right)} + \\cos^{2}{\\left(t \\right)} + 1}\\right) \\left(\\sin^{2}{\\left(t \\right)} + \\cos^{2}{\\left(t \\right)} + 1\\right)^{2}}} \\left(\\sin^{2}{\\left(t \\right)} + \\cos^{2}{\\left(t \\right)} + 1\\right)} & \\frac{\\sin{\\left(t \\right)}}{\\sqrt{\\frac{\\cos^{2}{\\left(t \\right)}}{\\sin^{2}{\\left(t \\right)} + \\cos^{2}{\\left(t \\right)} + 1} + \\frac{1}{\\sin^{2}{\\left(t \\right)} + \\cos^{2}{\\left(t \\right)} + 1}} \\sqrt{\\left(\\frac{\\cos^{2}{\\left(t \\right)}}{\\sqrt{\\frac{\\cos^{2}{\\left(t \\right)}}{\\sin^{2}{\\left(t \\right)} + \\cos^{2}{\\left(t \\right)} + 1} + \\frac{1}{\\sin^{2}{\\left(t \\right)} + \\cos^{2}{\\left(t \\right)} + 1}} \\left(\\sin^{2}{\\left(t \\right)} + \\cos^{2}{\\left(t \\right)} + 1\\right)} + \\frac{1}{\\sqrt{\\frac{\\cos^{2}{\\left(t \\right)}}{\\sin^{2}{\\left(t \\right)} + \\cos^{2}{\\left(t \\right)} + 1} + \\frac{1}{\\sin^{2}{\\left(t \\right)} + \\cos^{2}{\\left(t \\right)} + 1}} \\left(\\sin^{2}{\\left(t \\right)} + \\cos^{2}{\\left(t \\right)} + 1\\right)}\\right)^{2} + \\frac{\\sin^{2}{\\left(t \\right)} \\cos^{2}{\\left(t \\right)}}{\\left(\\frac{\\cos^{2}{\\left(t \\right)}}{\\sin^{2}{\\left(t \\right)} + \\cos^{2}{\\left(t \\right)} + 1} + \\frac{1}{\\sin^{2}{\\left(t \\right)} + \\cos^{2}{\\left(t \\right)} + 1}\\right) \\left(\\sin^{2}{\\left(t \\right)} + \\cos^{2}{\\left(t \\right)} + 1\\right)^{2}} + \\frac{\\sin^{2}{\\left(t \\right)}}{\\left(\\frac{\\cos^{2}{\\left(t \\right)}}{\\sin^{2}{\\left(t \\right)} + \\cos^{2}{\\left(t \\right)} + 1} + \\frac{1}{\\sin^{2}{\\left(t \\right)} + \\cos^{2}{\\left(t \\right)} + 1}\\right) \\left(\\sin^{2}{\\left(t \\right)} + \\cos^{2}{\\left(t \\right)} + 1\\right)^{2}}} \\left(\\sin^{2}{\\left(t \\right)} + \\cos^{2}{\\left(t \\right)} + 1\\right)}\\end{matrix}\\right]$"
      ],
      "text/plain": [
       "<IPython.core.display.Math object>"
      ]
     },
     "metadata": {},
     "output_type": "display_data"
    }
   ],
   "source": [
    "# Vypočíta Frenetov repér pre parametric_curve\n",
    "\"\"\"vstup: parametric_curve : sympy.Matrix\n",
    "    výstup: dotyčnica, normála, binormála : tuple\"\"\"\n",
    "\n",
    "def frenet_frame(curve_parametrization):\n",
    "    t = sp.Symbol('t')\n",
    "    curve_parametrization_first_derivation = sp.diff(curve_parametrization, t)\n",
    "    T = curve_parametrization_first_derivation / sp.sqrt(curve_parametrization_first_derivation.dot(curve_parametrization_first_derivation))\n",
    "\n",
    "    N = sp.Matrix([0, -T[2], T[1]])\n",
    "    N_norm = sp.sqrt(N.dot(N))\n",
    "    N = N / N_norm\n",
    "\n",
    "    B = T.cross(N)\n",
    "    B_norm = sp.sqrt(B.dot(B))\n",
    "    B = B / B_norm\n",
    "    return T, N, B\n",
    "\n",
    "def make_matrix(T, N, B):\n",
    "    A = sp.Matrix.hstack(T, N, B)\n",
    "    return A.T\n",
    "\n",
    "T, N, B = frenet_frame(curve_parametrization)\n",
    "A = make_matrix(T, N, B)\n",
    "display(Math(sp.latex(A)))"
   ]
  },
  {
   "cell_type": "code",
   "execution_count": 71,
   "metadata": {},
   "outputs": [],
   "source": [
    "# Maticou A vynásobíme vektor (X-parametric_curve) a tak zmeníme bázu elipsoidu na Frentov repér\n",
    "vector = sp.Matrix([x - curve_parametrization[0], y - curve_parametrization[1], z - curve_parametrization[2]])\n",
    "result = A * vector\n",
    "#display(Math(sp.latex(result)))"
   ]
  },
  {
   "cell_type": "code",
   "execution_count": 72,
   "metadata": {},
   "outputs": [],
   "source": [
    "ellipsoid = result[0]**2/a**2 + result[1]**2/b**2 + result[2]**2/b**2\n",
    "# Pre účely vykresľovania substitúcia t za s\n",
    "ellipsoid_in_frenet_basis = ellipsoid.subs(t, s)\n",
    "ellipsoid_in_frenet_basis = sp.simplify(ellipsoid_in_frenet_basis)\n",
    "# Hurá, máme elipsoid v inej báze, ak odčítame 1 a položíme výraz rovný 0\n",
    "# Rovnica elipsoidu v báze Frenetovho repéra\n",
    "#print(\"Rovnica systému: \")\n",
    "#display(Math(sp.latex((ellipsoid_in_frenet_basis - 1))))"
   ]
  },
  {
   "cell_type": "code",
   "execution_count": 73,
   "metadata": {},
   "outputs": [],
   "source": [
    "# Derivácia jednoparametrického systému elipsoidov \n",
    "derivation = sp.diff(ellipsoid_in_frenet_basis, s)\n",
    "#derivation = sp.simplify(sp.diff(ellipsoid_in_frenet_basis, s))\n",
    "#print(\"Derivácia sytému: \")\n",
    "#display(Math(sp.latex(derivation)))"
   ]
  },
  {
   "cell_type": "code",
   "execution_count": 74,
   "metadata": {},
   "outputs": [
    {
     "name": "stdout",
     "output_type": "stream",
     "text": [
      "Systém: \n",
      "-1 + \\frac{8 a^{2} \\left(y + \\left(s - z\\right) \\cos{\\left(s \\right)} - \\sin{\\left(s \\right)}\\right)^{2} + a^{2} \\left(- 2 s \\sin{\\left(s \\right)} + x \\cos{\\left(2 s \\right)} + 3 x + y \\sin{\\left(2 s \\right)} + 2 z \\sin{\\left(s \\right)} - 4 \\cos{\\left(s \\right)}\\right)^{2} + 4 b^{2} \\left(\\cos^{2}{\\left(s \\right)} + 1\\right) \\left(s + x \\sin{\\left(s \\right)} - y \\cos{\\left(s \\right)} - z\\right)^{2}}{8 a^{2} b^{2} \\left(\\cos^{2}{\\left(s \\right)} + 1\\right)}=0\n",
      "Derivácia sytému: \n",
      "\\frac{2 \\left(\\cos^{2}{\\left(s \\right)} + 1\\right) \\left(- 4 a^{2} \\left(s - z\\right) \\left(y + \\left(s - z\\right) \\cos{\\left(s \\right)} - \\sin{\\left(s \\right)}\\right) \\sin{\\left(s \\right)} + a^{2} \\left(- s \\cos{\\left(s \\right)} - x \\sin{\\left(2 s \\right)} + y \\cos{\\left(2 s \\right)} + z \\cos{\\left(s \\right)} + \\sin{\\left(s \\right)}\\right) \\left(- 2 s \\sin{\\left(s \\right)} + x \\cos{\\left(2 s \\right)} + 3 x + y \\sin{\\left(2 s \\right)} + 2 z \\sin{\\left(s \\right)} - 4 \\cos{\\left(s \\right)}\\right) + 2 b^{2} \\left(\\cos^{2}{\\left(s \\right)} + 1\\right) \\left(x \\cos{\\left(s \\right)} + y \\sin{\\left(s \\right)} + 1\\right) \\left(s + x \\sin{\\left(s \\right)} - y \\cos{\\left(s \\right)} - z\\right) - b^{2} \\left(s + x \\sin{\\left(s \\right)} - y \\cos{\\left(s \\right)} - z\\right)^{2} \\sin{\\left(2 s \\right)}\\right) + \\left(8 a^{2} \\left(y + \\left(s - z\\right) \\cos{\\left(s \\right)} - \\sin{\\left(s \\right)}\\right)^{2} + a^{2} \\left(- 2 s \\sin{\\left(s \\right)} + x \\cos{\\left(2 s \\right)} + 3 x + y \\sin{\\left(2 s \\right)} + 2 z \\sin{\\left(s \\right)} - 4 \\cos{\\left(s \\right)}\\right)^{2} + 4 b^{2} \\left(\\cos^{2}{\\left(s \\right)} + 1\\right) \\left(s + x \\sin{\\left(s \\right)} - y \\cos{\\left(s \\right)} - z\\right)^{2}\\right) \\sin{\\left(s \\right)} \\cos{\\left(s \\right)}}{4 a^{2} b^{2} \\left(\\cos^{2}{\\left(s \\right)} + 1\\right)^{2}}=0\n"
     ]
    }
   ],
   "source": [
    "print(\"Systém: \")\n",
    "#display(Math(sp.latex((ellipsoid_in_frenet_basis - 1))))\n",
    "ellipsoid_in_frenet_basis = sp.simplify(ellipsoid_in_frenet_basis)\n",
    "print(sp.latex((ellipsoid_in_frenet_basis - 1)) + '=0')\n",
    "\n",
    "print(\"Derivácia sytému: \")\n",
    "#display(Math(sp.latex(derivation)))\n",
    "derivation = sp.simplify(derivation)\n",
    "print(sp.latex(derivation) + '=0')"
   ]
  },
  {
   "cell_type": "code",
   "execution_count": 75,
   "metadata": {},
   "outputs": [
    {
     "data": {
      "text/plain": [
       "'print(\"Coefficient of x^2:\", coefficients_x_sq)\\nprint(\"Coefficient of y^2:\", coefficients_y_sq)\\nprint(\"Coefficient of z^2:\", coefficients_z_sq)\\nprint(\"Coefficient of xy:\", coefficients_xy)\\nprint(\"Coefficient of yz:\", coefficients_yz)\\nprint(\"Coefficient of xz:\", coefficients_xz)\\nprint(\"Coefficient of x:\", coefficients_x)\\nprint(\"Coefficient of y:\", coefficients_y)\\nprint(\"Coefficient of z:\", coefficients_z)\\nprint(\"Coefficient of constant term:\", coefficients_constant)'"
      ]
     },
     "execution_count": 75,
     "metadata": {},
     "output_type": "execute_result"
    }
   ],
   "source": [
    "# Výpočet, o aký typ plochy ide\n",
    "# Najprv potrebujeme extrahovať koeficienty z derivácie\n",
    "expanded_expression = sp.expand(derivation)\n",
    "#print(expanded_expression)\n",
    "\n",
    "coefficients_x_sq = expanded_expression.coeff(x**2)\n",
    "coefficients_y_sq = expanded_expression.coeff(y**2)\n",
    "coefficients_z_sq = expanded_expression.coeff(z**2)\n",
    "coefficients_xy = expanded_expression.coeff(x*y)\n",
    "coefficients_yz = expanded_expression.coeff(y*z)\n",
    "coefficients_xz = expanded_expression.coeff(x*z)\n",
    "\n",
    "# Tu bolo potrebné odstrániť všetky koeficienty pri členoch x*y, x*z,..\n",
    "coef_x = expanded_expression.coeff(x)\n",
    "terms_x = sp.Add(*coef_x.args) if isinstance(coef_x, sp.Add) else coef_x\n",
    "terms_x_filtered = [term for term in sp.Add.make_args(terms_x) if not term.has(y) and not term.has(z)]\n",
    "coefficients_x = sp.Add(*terms_x_filtered)\n",
    "\n",
    "coef_y = expanded_expression.coeff(y)\n",
    "terms_y = sp.Add(*coef_y.args) if isinstance(coef_y, sp.Add) else coef_y\n",
    "terms_y_filtered = [term for term in sp.Add.make_args(terms_y) if not term.has(x) and not term.has(z)]\n",
    "coefficients_y = sp.Add(*terms_y_filtered)\n",
    "\n",
    "coef_z = expanded_expression.coeff(z)\n",
    "terms_z = sp.Add(*coef_z.args) if isinstance(coef_z, sp.Add) else coef_z\n",
    "terms_z_filtered = [term for term in sp.Add.make_args(terms_z) if not term.has(x) and not term.has(y)]\n",
    "coefficients_z = sp.Add(*terms_z_filtered)\n",
    "\n",
    "coef_constant = expanded_expression.coeff(1)\n",
    "terms = sp.Add(*coef_constant.args) if isinstance(coef_constant, sp.Add) else coef_constant\n",
    "terms_filtered = [term for term in sp.Add.make_args(terms) if not term.has(x) and not term.has(y) and not term.has(z)]\n",
    "coefficients_constant = sp.Add(*terms_filtered)\n",
    "\n",
    "# Print koeficientov\n",
    "'''print(\"Coefficient of x^2:\", coefficients_x_sq)\n",
    "print(\"Coefficient of y^2:\", coefficients_y_sq)\n",
    "print(\"Coefficient of z^2:\", coefficients_z_sq)\n",
    "print(\"Coefficient of xy:\", coefficients_xy)\n",
    "print(\"Coefficient of yz:\", coefficients_yz)\n",
    "print(\"Coefficient of xz:\", coefficients_xz)\n",
    "print(\"Coefficient of x:\", coefficients_x)\n",
    "print(\"Coefficient of y:\", coefficients_y)\n",
    "print(\"Coefficient of z:\", coefficients_z)\n",
    "print(\"Coefficient of constant term:\", coefficients_constant)'''"
   ]
  },
  {
   "cell_type": "code",
   "execution_count": 76,
   "metadata": {},
   "outputs": [],
   "source": [
    "def matrix_of_quadrics(A, B, C, D, E, F, G, H, I, J):\n",
    "    row1 = [A, D/2, E/2, G/2]\n",
    "    row2 = [D/2, B, F/2, H/2]\n",
    "    row3 = [E/2, F/2, C, I/2]\n",
    "    row4 = [G/2, H/2, I/2, J]\n",
    "    matrix = sp.Matrix([row1, row2, row3, row4])\n",
    "    return matrix\n",
    "\n",
    "A = coefficients_x_sq\n",
    "B = coefficients_y_sq\n",
    "C = coefficients_z_sq\n",
    "D = coefficients_xy\n",
    "E = coefficients_yz\n",
    "F = coefficients_xz\n",
    "G = coefficients_x\n",
    "H = coefficients_y\n",
    "I = coefficients_z\n",
    "J = coefficients_constant\n",
    "\n",
    "result_matrix = matrix_of_quadrics(A, B, C, D, E, F, G, H, I, J)\n",
    "#print(\"Matica kvadratickej plochy: \")\n",
    "#display(Math(sp.latex(result_matrix)))"
   ]
  },
  {
   "cell_type": "code",
   "execution_count": 77,
   "metadata": {},
   "outputs": [],
   "source": [
    "# Typ plochy\n",
    "expression = A*B-D**2/4 + B*C - F**2/4 + C*J-I**2/4\n",
    "#expression = sp.simplify(expression)\n",
    "#print(\"Výraz: \")\n",
    "#display(Math(sp.latex(expression)))"
   ]
  },
  {
   "cell_type": "code",
   "execution_count": 78,
   "metadata": {},
   "outputs": [
    {
     "name": "stdout",
     "output_type": "stream",
     "text": [
      "Výraz je pre zadané hodnoty záporný. \n"
     ]
    }
   ],
   "source": [
    "# Typ plochy vieme jasne dourčiť pre špecifikáciu parametrov\n",
    "s_values = range(s_min, s_max)\n",
    "is_negative = True\n",
    "for s_val in s_values:\n",
    "        if expression.subs({s: s_val, a: a_0, b: b_0, c: c_0, d: d_0}) >= 0:\n",
    "            is_negative = False\n",
    "            break\n",
    "\n",
    "if is_negative:\n",
    "    print(\"Výraz je pre zadané hodnoty záporný. \")\n",
    "else:\n",
    "    print(\"Výraz nie je pre zadané hodnoty záporný. \")\n"
   ]
  },
  {
   "cell_type": "code",
   "execution_count": 79,
   "metadata": {},
   "outputs": [
    {
     "name": "stdout",
     "output_type": "stream",
     "text": [
      "Elapsed time: 78.23349022865295 seconds\n"
     ]
    }
   ],
   "source": [
    "# Record the end time\n",
    "end_time = time.time()\n",
    "\n",
    "# Calculate the elapsed time\n",
    "elapsed_time = end_time - start_time\n",
    "\n",
    "# Print the elapsed time\n",
    "print(\"Elapsed time:\", elapsed_time, \"seconds\")"
   ]
  },
  {
   "cell_type": "code",
   "execution_count": 80,
   "metadata": {},
   "outputs": [
    {
     "name": "stdout",
     "output_type": "stream",
     "text": [
      "Matrix([[cos(t)], [sin(t)], [t]])\n",
      "Systém: \n",
      "-1 + \\frac{8 a^{2} \\left(y + \\left(s - z\\right) \\cos{\\left(s \\right)} - \\sin{\\left(s \\right)}\\right)^{2} + a^{2} \\left(- 2 s \\sin{\\left(s \\right)} + x \\cos{\\left(2 s \\right)} + 3 x + y \\sin{\\left(2 s \\right)} + 2 z \\sin{\\left(s \\right)} - 4 \\cos{\\left(s \\right)}\\right)^{2} + 4 b^{2} \\left(\\cos^{2}{\\left(s \\right)} + 1\\right) \\left(s + x \\sin{\\left(s \\right)} - y \\cos{\\left(s \\right)} - z\\right)^{2}}{8 a^{2} b^{2} \\left(\\cos^{2}{\\left(s \\right)} + 1\\right)}=0\n",
      "Derivácia sytému: \n",
      "\\frac{2 \\left(\\cos^{2}{\\left(s \\right)} + 1\\right) \\left(- 4 a^{2} \\left(s - z\\right) \\left(y + \\left(s - z\\right) \\cos{\\left(s \\right)} - \\sin{\\left(s \\right)}\\right) \\sin{\\left(s \\right)} + a^{2} \\left(- s \\cos{\\left(s \\right)} - x \\sin{\\left(2 s \\right)} + y \\cos{\\left(2 s \\right)} + z \\cos{\\left(s \\right)} + \\sin{\\left(s \\right)}\\right) \\left(- 2 s \\sin{\\left(s \\right)} + x \\cos{\\left(2 s \\right)} + 3 x + y \\sin{\\left(2 s \\right)} + 2 z \\sin{\\left(s \\right)} - 4 \\cos{\\left(s \\right)}\\right) + 2 b^{2} \\left(\\cos^{2}{\\left(s \\right)} + 1\\right) \\left(x \\cos{\\left(s \\right)} + y \\sin{\\left(s \\right)} + 1\\right) \\left(s + x \\sin{\\left(s \\right)} - y \\cos{\\left(s \\right)} - z\\right) - b^{2} \\left(s + x \\sin{\\left(s \\right)} - y \\cos{\\left(s \\right)} - z\\right)^{2} \\sin{\\left(2 s \\right)}\\right) + \\left(8 a^{2} \\left(y + \\left(s - z\\right) \\cos{\\left(s \\right)} - \\sin{\\left(s \\right)}\\right)^{2} + a^{2} \\left(- 2 s \\sin{\\left(s \\right)} + x \\cos{\\left(2 s \\right)} + 3 x + y \\sin{\\left(2 s \\right)} + 2 z \\sin{\\left(s \\right)} - 4 \\cos{\\left(s \\right)}\\right)^{2} + 4 b^{2} \\left(\\cos^{2}{\\left(s \\right)} + 1\\right) \\left(s + x \\sin{\\left(s \\right)} - y \\cos{\\left(s \\right)} - z\\right)^{2}\\right) \\sin{\\left(s \\right)} \\cos{\\left(s \\right)}}{4 a^{2} b^{2} \\left(\\cos^{2}{\\left(s \\right)} + 1\\right)^{2}}=0\n",
      "Čas bez optimalizácie: \n",
      "78.23349022865295 seconds\n",
      "Výraz: \n"
     ]
    },
    {
     "data": {
      "text/latex": [
       "$\\displaystyle \\left(\\frac{4 a^{2} \\sin^{3}{\\left(s \\right)} \\cos{\\left(s \\right)}}{4 a^{2} b^{2} \\cos^{4}{\\left(s \\right)} + 8 a^{2} b^{2} \\cos^{2}{\\left(s \\right)} + 4 a^{2} b^{2}} + \\frac{4 a^{2} \\sin{\\left(s \\right)} \\cos^{3}{\\left(s \\right)}}{4 a^{2} b^{2} \\cos^{4}{\\left(s \\right)} + 8 a^{2} b^{2} \\cos^{2}{\\left(s \\right)} + 4 a^{2} b^{2}} - \\frac{4 a^{2} \\sin{\\left(s \\right)} \\cos{\\left(s \\right)}}{4 a^{2} b^{2} \\cos^{4}{\\left(s \\right)} + 8 a^{2} b^{2} \\cos^{2}{\\left(s \\right)} + 4 a^{2} b^{2}} + \\frac{4 b^{2} \\sin{\\left(s \\right)} \\cos^{3}{\\left(s \\right)}}{4 a^{2} b^{2} \\cos^{4}{\\left(s \\right)} + 8 a^{2} b^{2} \\cos^{2}{\\left(s \\right)} + 4 a^{2} b^{2}} + \\frac{4 b^{2} \\sin{\\left(s \\right)} \\cos{\\left(s \\right)}}{4 a^{2} b^{2} \\cos^{4}{\\left(s \\right)} + 8 a^{2} b^{2} \\cos^{2}{\\left(s \\right)} + 4 a^{2} b^{2}} - \\frac{2 b^{2} \\sin{\\left(2 s \\right)} \\cos^{2}{\\left(s \\right)}}{4 a^{2} b^{2} \\cos^{4}{\\left(s \\right)} + 8 a^{2} b^{2} \\cos^{2}{\\left(s \\right)} + 4 a^{2} b^{2}} - \\frac{2 b^{2} \\sin{\\left(2 s \\right)}}{4 a^{2} b^{2} \\cos^{4}{\\left(s \\right)} + 8 a^{2} b^{2} \\cos^{2}{\\left(s \\right)} + 4 a^{2} b^{2}}\\right) \\left(\\frac{a^{2} \\sin{\\left(s \\right)} \\sin^{2}{\\left(2 s \\right)} \\cos{\\left(s \\right)}}{4 a^{2} b^{2} \\cos^{4}{\\left(s \\right)} + 8 a^{2} b^{2} \\cos^{2}{\\left(s \\right)} + 4 a^{2} b^{2}} + \\frac{8 a^{2} \\sin{\\left(s \\right)} \\cos{\\left(s \\right)}}{4 a^{2} b^{2} \\cos^{4}{\\left(s \\right)} + 8 a^{2} b^{2} \\cos^{2}{\\left(s \\right)} + 4 a^{2} b^{2}} + \\frac{2 a^{2} \\sin{\\left(2 s \\right)} \\cos^{2}{\\left(s \\right)} \\cos{\\left(2 s \\right)}}{4 a^{2} b^{2} \\cos^{4}{\\left(s \\right)} + 8 a^{2} b^{2} \\cos^{2}{\\left(s \\right)} + 4 a^{2} b^{2}} + \\frac{2 a^{2} \\sin{\\left(2 s \\right)} \\cos{\\left(2 s \\right)}}{4 a^{2} b^{2} \\cos^{4}{\\left(s \\right)} + 8 a^{2} b^{2} \\cos^{2}{\\left(s \\right)} + 4 a^{2} b^{2}} - \\frac{4 b^{2} \\sin{\\left(s \\right)} \\cos^{3}{\\left(s \\right)}}{4 a^{2} b^{2} \\cos^{4}{\\left(s \\right)} + 8 a^{2} b^{2} \\cos^{2}{\\left(s \\right)} + 4 a^{2} b^{2}} - \\frac{4 b^{2} \\sin{\\left(s \\right)} \\cos{\\left(s \\right)}}{4 a^{2} b^{2} \\cos^{4}{\\left(s \\right)} + 8 a^{2} b^{2} \\cos^{2}{\\left(s \\right)} + 4 a^{2} b^{2}} - \\frac{2 b^{2} \\sin{\\left(2 s \\right)} \\cos^{4}{\\left(s \\right)}}{4 a^{2} b^{2} \\cos^{4}{\\left(s \\right)} + 8 a^{2} b^{2} \\cos^{2}{\\left(s \\right)} + 4 a^{2} b^{2}} - \\frac{2 b^{2} \\sin{\\left(2 s \\right)} \\cos^{2}{\\left(s \\right)}}{4 a^{2} b^{2} \\cos^{4}{\\left(s \\right)} + 8 a^{2} b^{2} \\cos^{2}{\\left(s \\right)} + 4 a^{2} b^{2}}\\right) + \\left(\\frac{a^{2} \\sin{\\left(s \\right)} \\sin^{2}{\\left(2 s \\right)} \\cos{\\left(s \\right)}}{4 a^{2} b^{2} \\cos^{4}{\\left(s \\right)} + 8 a^{2} b^{2} \\cos^{2}{\\left(s \\right)} + 4 a^{2} b^{2}} + \\frac{8 a^{2} \\sin{\\left(s \\right)} \\cos{\\left(s \\right)}}{4 a^{2} b^{2} \\cos^{4}{\\left(s \\right)} + 8 a^{2} b^{2} \\cos^{2}{\\left(s \\right)} + 4 a^{2} b^{2}} + \\frac{2 a^{2} \\sin{\\left(2 s \\right)} \\cos^{2}{\\left(s \\right)} \\cos{\\left(2 s \\right)}}{4 a^{2} b^{2} \\cos^{4}{\\left(s \\right)} + 8 a^{2} b^{2} \\cos^{2}{\\left(s \\right)} + 4 a^{2} b^{2}} + \\frac{2 a^{2} \\sin{\\left(2 s \\right)} \\cos{\\left(2 s \\right)}}{4 a^{2} b^{2} \\cos^{4}{\\left(s \\right)} + 8 a^{2} b^{2} \\cos^{2}{\\left(s \\right)} + 4 a^{2} b^{2}} - \\frac{4 b^{2} \\sin{\\left(s \\right)} \\cos^{3}{\\left(s \\right)}}{4 a^{2} b^{2} \\cos^{4}{\\left(s \\right)} + 8 a^{2} b^{2} \\cos^{2}{\\left(s \\right)} + 4 a^{2} b^{2}} - \\frac{4 b^{2} \\sin{\\left(s \\right)} \\cos{\\left(s \\right)}}{4 a^{2} b^{2} \\cos^{4}{\\left(s \\right)} + 8 a^{2} b^{2} \\cos^{2}{\\left(s \\right)} + 4 a^{2} b^{2}} - \\frac{2 b^{2} \\sin{\\left(2 s \\right)} \\cos^{4}{\\left(s \\right)}}{4 a^{2} b^{2} \\cos^{4}{\\left(s \\right)} + 8 a^{2} b^{2} \\cos^{2}{\\left(s \\right)} + 4 a^{2} b^{2}} - \\frac{2 b^{2} \\sin{\\left(2 s \\right)} \\cos^{2}{\\left(s \\right)}}{4 a^{2} b^{2} \\cos^{4}{\\left(s \\right)} + 8 a^{2} b^{2} \\cos^{2}{\\left(s \\right)} + 4 a^{2} b^{2}}\\right) \\left(\\frac{a^{2} \\sin{\\left(s \\right)} \\cos{\\left(s \\right)} \\cos^{2}{\\left(2 s \\right)}}{4 a^{2} b^{2} \\cos^{4}{\\left(s \\right)} + 8 a^{2} b^{2} \\cos^{2}{\\left(s \\right)} + 4 a^{2} b^{2}} + \\frac{6 a^{2} \\sin{\\left(s \\right)} \\cos{\\left(s \\right)} \\cos{\\left(2 s \\right)}}{4 a^{2} b^{2} \\cos^{4}{\\left(s \\right)} + 8 a^{2} b^{2} \\cos^{2}{\\left(s \\right)} + 4 a^{2} b^{2}} + \\frac{9 a^{2} \\sin{\\left(s \\right)} \\cos{\\left(s \\right)}}{4 a^{2} b^{2} \\cos^{4}{\\left(s \\right)} + 8 a^{2} b^{2} \\cos^{2}{\\left(s \\right)} + 4 a^{2} b^{2}} - \\frac{2 a^{2} \\sin{\\left(2 s \\right)} \\cos^{2}{\\left(s \\right)} \\cos{\\left(2 s \\right)}}{4 a^{2} b^{2} \\cos^{4}{\\left(s \\right)} + 8 a^{2} b^{2} \\cos^{2}{\\left(s \\right)} + 4 a^{2} b^{2}} - \\frac{6 a^{2} \\sin{\\left(2 s \\right)} \\cos^{2}{\\left(s \\right)}}{4 a^{2} b^{2} \\cos^{4}{\\left(s \\right)} + 8 a^{2} b^{2} \\cos^{2}{\\left(s \\right)} + 4 a^{2} b^{2}} - \\frac{2 a^{2} \\sin{\\left(2 s \\right)} \\cos{\\left(2 s \\right)}}{4 a^{2} b^{2} \\cos^{4}{\\left(s \\right)} + 8 a^{2} b^{2} \\cos^{2}{\\left(s \\right)} + 4 a^{2} b^{2}} - \\frac{6 a^{2} \\sin{\\left(2 s \\right)}}{4 a^{2} b^{2} \\cos^{4}{\\left(s \\right)} + 8 a^{2} b^{2} \\cos^{2}{\\left(s \\right)} + 4 a^{2} b^{2}} + \\frac{4 b^{2} \\sin^{3}{\\left(s \\right)} \\cos^{3}{\\left(s \\right)}}{4 a^{2} b^{2} \\cos^{4}{\\left(s \\right)} + 8 a^{2} b^{2} \\cos^{2}{\\left(s \\right)} + 4 a^{2} b^{2}} + \\frac{4 b^{2} \\sin^{3}{\\left(s \\right)} \\cos{\\left(s \\right)}}{4 a^{2} b^{2} \\cos^{4}{\\left(s \\right)} + 8 a^{2} b^{2} \\cos^{2}{\\left(s \\right)} + 4 a^{2} b^{2}} - \\frac{2 b^{2} \\sin^{2}{\\left(s \\right)} \\sin{\\left(2 s \\right)} \\cos^{2}{\\left(s \\right)}}{4 a^{2} b^{2} \\cos^{4}{\\left(s \\right)} + 8 a^{2} b^{2} \\cos^{2}{\\left(s \\right)} + 4 a^{2} b^{2}} - \\frac{2 b^{2} \\sin^{2}{\\left(s \\right)} \\sin{\\left(2 s \\right)}}{4 a^{2} b^{2} \\cos^{4}{\\left(s \\right)} + 8 a^{2} b^{2} \\cos^{2}{\\left(s \\right)} + 4 a^{2} b^{2}} + \\frac{4 b^{2} \\sin{\\left(s \\right)} \\cos^{5}{\\left(s \\right)}}{4 a^{2} b^{2} \\cos^{4}{\\left(s \\right)} + 8 a^{2} b^{2} \\cos^{2}{\\left(s \\right)} + 4 a^{2} b^{2}} + \\frac{8 b^{2} \\sin{\\left(s \\right)} \\cos^{3}{\\left(s \\right)}}{4 a^{2} b^{2} \\cos^{4}{\\left(s \\right)} + 8 a^{2} b^{2} \\cos^{2}{\\left(s \\right)} + 4 a^{2} b^{2}} + \\frac{4 b^{2} \\sin{\\left(s \\right)} \\cos{\\left(s \\right)}}{4 a^{2} b^{2} \\cos^{4}{\\left(s \\right)} + 8 a^{2} b^{2} \\cos^{2}{\\left(s \\right)} + 4 a^{2} b^{2}}\\right) - \\frac{\\left(- \\frac{8 a^{2} s \\sin^{3}{\\left(s \\right)} \\cos{\\left(s \\right)}}{4 a^{2} b^{2} \\cos^{4}{\\left(s \\right)} + 8 a^{2} b^{2} \\cos^{2}{\\left(s \\right)} + 4 a^{2} b^{2}} - \\frac{8 a^{2} s \\sin{\\left(s \\right)} \\cos^{3}{\\left(s \\right)}}{4 a^{2} b^{2} \\cos^{4}{\\left(s \\right)} + 8 a^{2} b^{2} \\cos^{2}{\\left(s \\right)} + 4 a^{2} b^{2}} + \\frac{8 a^{2} s \\sin{\\left(s \\right)} \\cos{\\left(s \\right)}}{4 a^{2} b^{2} \\cos^{4}{\\left(s \\right)} + 8 a^{2} b^{2} \\cos^{2}{\\left(s \\right)} + 4 a^{2} b^{2}} - \\frac{4 a^{2} \\sin^{2}{\\left(s \\right)} \\cos^{2}{\\left(s \\right)}}{4 a^{2} b^{2} \\cos^{4}{\\left(s \\right)} + 8 a^{2} b^{2} \\cos^{2}{\\left(s \\right)} + 4 a^{2} b^{2}} - \\frac{4 a^{2} \\sin^{2}{\\left(s \\right)}}{4 a^{2} b^{2} \\cos^{4}{\\left(s \\right)} + 8 a^{2} b^{2} \\cos^{2}{\\left(s \\right)} + 4 a^{2} b^{2}} - \\frac{8 a^{2} \\cos^{4}{\\left(s \\right)}}{4 a^{2} b^{2} \\cos^{4}{\\left(s \\right)} + 8 a^{2} b^{2} \\cos^{2}{\\left(s \\right)} + 4 a^{2} b^{2}} - \\frac{8 a^{2} \\cos^{2}{\\left(s \\right)}}{4 a^{2} b^{2} \\cos^{4}{\\left(s \\right)} + 8 a^{2} b^{2} \\cos^{2}{\\left(s \\right)} + 4 a^{2} b^{2}} - \\frac{8 b^{2} s \\sin{\\left(s \\right)} \\cos^{3}{\\left(s \\right)}}{4 a^{2} b^{2} \\cos^{4}{\\left(s \\right)} + 8 a^{2} b^{2} \\cos^{2}{\\left(s \\right)} + 4 a^{2} b^{2}} - \\frac{8 b^{2} s \\sin{\\left(s \\right)} \\cos{\\left(s \\right)}}{4 a^{2} b^{2} \\cos^{4}{\\left(s \\right)} + 8 a^{2} b^{2} \\cos^{2}{\\left(s \\right)} + 4 a^{2} b^{2}} + \\frac{4 b^{2} s \\sin{\\left(2 s \\right)} \\cos^{2}{\\left(s \\right)}}{4 a^{2} b^{2} \\cos^{4}{\\left(s \\right)} + 8 a^{2} b^{2} \\cos^{2}{\\left(s \\right)} + 4 a^{2} b^{2}} + \\frac{4 b^{2} s \\sin{\\left(2 s \\right)}}{4 a^{2} b^{2} \\cos^{4}{\\left(s \\right)} + 8 a^{2} b^{2} \\cos^{2}{\\left(s \\right)} + 4 a^{2} b^{2}} - \\frac{4 b^{2} \\cos^{4}{\\left(s \\right)}}{4 a^{2} b^{2} \\cos^{4}{\\left(s \\right)} + 8 a^{2} b^{2} \\cos^{2}{\\left(s \\right)} + 4 a^{2} b^{2}} - \\frac{8 b^{2} \\cos^{2}{\\left(s \\right)}}{4 a^{2} b^{2} \\cos^{4}{\\left(s \\right)} + 8 a^{2} b^{2} \\cos^{2}{\\left(s \\right)} + 4 a^{2} b^{2}} - \\frac{4 b^{2}}{4 a^{2} b^{2} \\cos^{4}{\\left(s \\right)} + 8 a^{2} b^{2} \\cos^{2}{\\left(s \\right)} + 4 a^{2} b^{2}}\\right)^{2}}{4} - \\frac{\\left(\\frac{4 a^{2} \\sin^{2}{\\left(s \\right)} \\cos{\\left(s \\right)} \\cos{\\left(2 s \\right)}}{4 a^{2} b^{2} \\cos^{4}{\\left(s \\right)} + 8 a^{2} b^{2} \\cos^{2}{\\left(s \\right)} + 4 a^{2} b^{2}} + \\frac{12 a^{2} \\sin^{2}{\\left(s \\right)} \\cos{\\left(s \\right)}}{4 a^{2} b^{2} \\cos^{4}{\\left(s \\right)} + 8 a^{2} b^{2} \\cos^{2}{\\left(s \\right)} + 4 a^{2} b^{2}} - \\frac{4 a^{2} \\sin{\\left(s \\right)} \\sin{\\left(2 s \\right)} \\cos^{2}{\\left(s \\right)}}{4 a^{2} b^{2} \\cos^{4}{\\left(s \\right)} + 8 a^{2} b^{2} \\cos^{2}{\\left(s \\right)} + 4 a^{2} b^{2}} - \\frac{4 a^{2} \\sin{\\left(s \\right)} \\sin{\\left(2 s \\right)}}{4 a^{2} b^{2} \\cos^{4}{\\left(s \\right)} + 8 a^{2} b^{2} \\cos^{2}{\\left(s \\right)} + 4 a^{2} b^{2}} + \\frac{2 a^{2} \\cos^{3}{\\left(s \\right)} \\cos{\\left(2 s \\right)}}{4 a^{2} b^{2} \\cos^{4}{\\left(s \\right)} + 8 a^{2} b^{2} \\cos^{2}{\\left(s \\right)} + 4 a^{2} b^{2}} + \\frac{6 a^{2} \\cos^{3}{\\left(s \\right)}}{4 a^{2} b^{2} \\cos^{4}{\\left(s \\right)} + 8 a^{2} b^{2} \\cos^{2}{\\left(s \\right)} + 4 a^{2} b^{2}} + \\frac{2 a^{2} \\cos{\\left(s \\right)} \\cos{\\left(2 s \\right)}}{4 a^{2} b^{2} \\cos^{4}{\\left(s \\right)} + 8 a^{2} b^{2} \\cos^{2}{\\left(s \\right)} + 4 a^{2} b^{2}} + \\frac{6 a^{2} \\cos{\\left(s \\right)}}{4 a^{2} b^{2} \\cos^{4}{\\left(s \\right)} + 8 a^{2} b^{2} \\cos^{2}{\\left(s \\right)} + 4 a^{2} b^{2}} - \\frac{8 b^{2} \\sin^{2}{\\left(s \\right)} \\cos^{3}{\\left(s \\right)}}{4 a^{2} b^{2} \\cos^{4}{\\left(s \\right)} + 8 a^{2} b^{2} \\cos^{2}{\\left(s \\right)} + 4 a^{2} b^{2}} - \\frac{8 b^{2} \\sin^{2}{\\left(s \\right)} \\cos{\\left(s \\right)}}{4 a^{2} b^{2} \\cos^{4}{\\left(s \\right)} + 8 a^{2} b^{2} \\cos^{2}{\\left(s \\right)} + 4 a^{2} b^{2}} + \\frac{4 b^{2} \\sin{\\left(s \\right)} \\sin{\\left(2 s \\right)} \\cos^{2}{\\left(s \\right)}}{4 a^{2} b^{2} \\cos^{4}{\\left(s \\right)} + 8 a^{2} b^{2} \\cos^{2}{\\left(s \\right)} + 4 a^{2} b^{2}} + \\frac{4 b^{2} \\sin{\\left(s \\right)} \\sin{\\left(2 s \\right)}}{4 a^{2} b^{2} \\cos^{4}{\\left(s \\right)} + 8 a^{2} b^{2} \\cos^{2}{\\left(s \\right)} + 4 a^{2} b^{2}} - \\frac{4 b^{2} \\cos^{5}{\\left(s \\right)}}{4 a^{2} b^{2} \\cos^{4}{\\left(s \\right)} + 8 a^{2} b^{2} \\cos^{2}{\\left(s \\right)} + 4 a^{2} b^{2}} - \\frac{8 b^{2} \\cos^{3}{\\left(s \\right)}}{4 a^{2} b^{2} \\cos^{4}{\\left(s \\right)} + 8 a^{2} b^{2} \\cos^{2}{\\left(s \\right)} + 4 a^{2} b^{2}} - \\frac{4 b^{2} \\cos{\\left(s \\right)}}{4 a^{2} b^{2} \\cos^{4}{\\left(s \\right)} + 8 a^{2} b^{2} \\cos^{2}{\\left(s \\right)} + 4 a^{2} b^{2}}\\right)^{2}}{4} - \\frac{\\left(\\frac{2 a^{2} \\sin{\\left(s \\right)} \\sin{\\left(2 s \\right)} \\cos{\\left(s \\right)} \\cos{\\left(2 s \\right)}}{4 a^{2} b^{2} \\cos^{4}{\\left(s \\right)} + 8 a^{2} b^{2} \\cos^{2}{\\left(s \\right)} + 4 a^{2} b^{2}} + \\frac{6 a^{2} \\sin{\\left(s \\right)} \\sin{\\left(2 s \\right)} \\cos{\\left(s \\right)}}{4 a^{2} b^{2} \\cos^{4}{\\left(s \\right)} + 8 a^{2} b^{2} \\cos^{2}{\\left(s \\right)} + 4 a^{2} b^{2}} - \\frac{2 a^{2} \\sin^{2}{\\left(2 s \\right)} \\cos^{2}{\\left(s \\right)}}{4 a^{2} b^{2} \\cos^{4}{\\left(s \\right)} + 8 a^{2} b^{2} \\cos^{2}{\\left(s \\right)} + 4 a^{2} b^{2}} - \\frac{2 a^{2} \\sin^{2}{\\left(2 s \\right)}}{4 a^{2} b^{2} \\cos^{4}{\\left(s \\right)} + 8 a^{2} b^{2} \\cos^{2}{\\left(s \\right)} + 4 a^{2} b^{2}} + \\frac{2 a^{2} \\cos^{2}{\\left(s \\right)} \\cos^{2}{\\left(2 s \\right)}}{4 a^{2} b^{2} \\cos^{4}{\\left(s \\right)} + 8 a^{2} b^{2} \\cos^{2}{\\left(s \\right)} + 4 a^{2} b^{2}} + \\frac{6 a^{2} \\cos^{2}{\\left(s \\right)} \\cos{\\left(2 s \\right)}}{4 a^{2} b^{2} \\cos^{4}{\\left(s \\right)} + 8 a^{2} b^{2} \\cos^{2}{\\left(s \\right)} + 4 a^{2} b^{2}} + \\frac{2 a^{2} \\cos^{2}{\\left(2 s \\right)}}{4 a^{2} b^{2} \\cos^{4}{\\left(s \\right)} + 8 a^{2} b^{2} \\cos^{2}{\\left(s \\right)} + 4 a^{2} b^{2}} + \\frac{6 a^{2} \\cos{\\left(2 s \\right)}}{4 a^{2} b^{2} \\cos^{4}{\\left(s \\right)} + 8 a^{2} b^{2} \\cos^{2}{\\left(s \\right)} + 4 a^{2} b^{2}} - \\frac{4 b^{2} \\sin^{2}{\\left(s \\right)} \\cos^{4}{\\left(s \\right)}}{4 a^{2} b^{2} \\cos^{4}{\\left(s \\right)} + 8 a^{2} b^{2} \\cos^{2}{\\left(s \\right)} + 4 a^{2} b^{2}} + \\frac{4 b^{2} \\sin^{2}{\\left(s \\right)}}{4 a^{2} b^{2} \\cos^{4}{\\left(s \\right)} + 8 a^{2} b^{2} \\cos^{2}{\\left(s \\right)} + 4 a^{2} b^{2}} + \\frac{4 b^{2} \\sin{\\left(s \\right)} \\sin{\\left(2 s \\right)} \\cos^{3}{\\left(s \\right)}}{4 a^{2} b^{2} \\cos^{4}{\\left(s \\right)} + 8 a^{2} b^{2} \\cos^{2}{\\left(s \\right)} + 4 a^{2} b^{2}} + \\frac{4 b^{2} \\sin{\\left(s \\right)} \\sin{\\left(2 s \\right)} \\cos{\\left(s \\right)}}{4 a^{2} b^{2} \\cos^{4}{\\left(s \\right)} + 8 a^{2} b^{2} \\cos^{2}{\\left(s \\right)} + 4 a^{2} b^{2}} - \\frac{4 b^{2} \\cos^{6}{\\left(s \\right)}}{4 a^{2} b^{2} \\cos^{4}{\\left(s \\right)} + 8 a^{2} b^{2} \\cos^{2}{\\left(s \\right)} + 4 a^{2} b^{2}} - \\frac{8 b^{2} \\cos^{4}{\\left(s \\right)}}{4 a^{2} b^{2} \\cos^{4}{\\left(s \\right)} + 8 a^{2} b^{2} \\cos^{2}{\\left(s \\right)} + 4 a^{2} b^{2}} - \\frac{4 b^{2} \\cos^{2}{\\left(s \\right)}}{4 a^{2} b^{2} \\cos^{4}{\\left(s \\right)} + 8 a^{2} b^{2} \\cos^{2}{\\left(s \\right)} + 4 a^{2} b^{2}}\\right)^{2}}{4}$"
      ],
      "text/plain": [
       "<IPython.core.display.Math object>"
      ]
     },
     "metadata": {},
     "output_type": "display_data"
    },
    {
     "name": "stdout",
     "output_type": "stream",
     "text": [
      "Výraz je pre zadané hodnoty záporný. \n"
     ]
    }
   ],
   "source": [
    "print(curve_parametrization)\n",
    "print(\"Systém: \")\n",
    "#display(Math(sp.latex((ellipsoid_in_frenet_basis - 1))))\n",
    "print(sp.latex((ellipsoid_in_frenet_basis - 1)) + '=0')\n",
    "\n",
    "print(\"Derivácia sytému: \")\n",
    "#display(Math(sp.latex(derivation)))\n",
    "print(sp.latex(derivation) + '=0')\n",
    "\n",
    "print(\"Čas bez optimalizácie: \")\n",
    "print(elapsed_time, \"seconds\")\n",
    "\n",
    "print(\"Výraz: \")\n",
    "display(Math(sp.latex(expression)))\n",
    "if is_negative:\n",
    "    print(\"Výraz je pre zadané hodnoty záporný. \")\n",
    "else:\n",
    "    print(\"Výraz nie je pre zadané hodnoty záporný. \")"
   ]
  },
  {
   "cell_type": "code",
   "execution_count": 81,
   "metadata": {},
   "outputs": [
    {
     "name": "stdout",
     "output_type": "stream",
     "text": [
      "Derivative Curve Parametrization: Matrix([[-sin(t)], [cos(t)], [1]])\n",
      "Norm of Derivative Curve Parametrization: sqrt(sin(t)**2 + cos(t)**2 + 1)\n",
      "alfa: -(cos(t)**2 + 1)*cos(t) - sin(t)**2*cos(t)\n",
      "beta: -(sin(t)**2 + 1)*sin(t) - sin(t)*cos(t)**2\n",
      "gama: 0\n",
      "delta: -b**2*(sin(t)**2 + cos(t)**2 + 1)**2/(-a**2 + b**2) - (-(sin(t)**2 + 1)*sin(t) - sin(t)*cos(t)**2)*sin(t) - (-(cos(t)**2 + 1)*cos(t) - sin(t)**2*cos(t))*cos(t)\n",
      "alfa: -(cos(t)**2 + 1)*cos(t) - sin(t)**2*cos(t)\n",
      "beta: -(sin(t)**2 + 1)*sin(t) - sin(t)*cos(t)**2\n",
      "gama: 0\n",
      "delta: -b**2*(sin(t)**2 + cos(t)**2 + 1)**2/(-a**2 + b**2) - (-(sin(t)**2 + 1)*sin(t) - sin(t)*cos(t)**2)*sin(t) - (-(cos(t)**2 + 1)*cos(t) - sin(t)**2*cos(t))*cos(t)\n",
      "\\frac{\\left|{\\frac{b^{2} \\left(\\sin^{2}{\\left(t \\right)} + \\cos^{2}{\\left(t \\right)} + 1\\right)^{2}}{a^{2} - b^{2}}}\\right|}{\\left|{\\sqrt{\\left(\\left(\\sin^{2}{\\left(t \\right)} + 1\\right) \\sin{\\left(t \\right)} + \\sin{\\left(t \\right)} \\cos^{2}{\\left(t \\right)}\\right)^{2} + \\left(\\left(\\cos^{2}{\\left(t \\right)} + 1\\right) \\cos{\\left(t \\right)} + \\sin^{2}{\\left(t \\right)} \\cos{\\left(t \\right)}\\right)^{2}}}\\right|}\n"
     ]
    }
   ],
   "source": [
    "derivative_curve_parametrization = en.calculate_derivative_curve(curve_parametrization)\n",
    "norm_derivative_curve_parametrization = en.calculate_norm_derivative_curve(derivative_curve_parametrization)\n",
    "rho = en.rho(curve_parametrization, derivative_curve_parametrization, norm_derivative_curve_parametrization, a, b)\n",
    "normal_vector_of_plane = en.normal_vector_of_plane(derivative_curve_parametrization)\n",
    "importlib.reload(en)\n",
    "beta = en.plane(curve_parametrization, derivative_curve_parametrization, norm_derivative_curve_parametrization, a, b)\n",
    "\n",
    "print(sp.latex(rho))"
   ]
  },
  {
   "cell_type": "code",
   "execution_count": 82,
   "metadata": {},
   "outputs": [
    {
     "name": "stdout",
     "output_type": "stream",
     "text": [
      "- \\frac{b^{2} \\left(\\sin^{2}{\\left(s \\right)} + \\cos^{2}{\\left(s \\right)} + 1\\right)^{2}}{- a^{2} + b^{2}} + x \\left(- \\left(\\cos^{2}{\\left(s \\right)} + 1\\right) \\cos{\\left(s \\right)} - \\sin^{2}{\\left(s \\right)} \\cos{\\left(s \\right)}\\right) + y \\left(- \\left(\\sin^{2}{\\left(s \\right)} + 1\\right) \\sin{\\left(s \\right)} - \\sin{\\left(s \\right)} \\cos^{2}{\\left(s \\right)}\\right) - \\left(- \\left(\\sin^{2}{\\left(s \\right)} + 1\\right) \\sin{\\left(s \\right)} - \\sin{\\left(s \\right)} \\cos^{2}{\\left(s \\right)}\\right) \\sin{\\left(s \\right)} - \\left(- \\left(\\cos^{2}{\\left(s \\right)} + 1\\right) \\cos{\\left(s \\right)} - \\sin^{2}{\\left(s \\right)} \\cos{\\left(s \\right)}\\right) \\cos{\\left(s \\right)}\n"
     ]
    }
   ],
   "source": [
    "plane_beta = beta[0]*x+beta[1]*y+beta[2]*z+beta[3]\n",
    "plane =  plane_beta.subs(t, s)\n",
    "print(sp.latex(plane))"
   ]
  }
 ],
 "metadata": {
  "kernelspec": {
   "display_name": "Python 3",
   "language": "python",
   "name": "python3"
  },
  "language_info": {
   "codemirror_mode": {
    "name": "ipython",
    "version": 3
   },
   "file_extension": ".py",
   "mimetype": "text/x-python",
   "name": "python",
   "nbconvert_exporter": "python",
   "pygments_lexer": "ipython3",
   "version": "3.11.5"
  },
  "orig_nbformat": 4
 },
 "nbformat": 4,
 "nbformat_minor": 2
}
