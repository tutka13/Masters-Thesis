{
 "cells": [
  {
   "cell_type": "code",
   "execution_count": 1,
   "metadata": {},
   "outputs": [],
   "source": [
    "import sympy as sp\n",
    "\n",
    "# Define symbols\n",
    "t = sp.symbols('t')\n",
    "c, d= sp.symbols('c d')"
   ]
  },
  {
   "cell_type": "code",
   "execution_count": 5,
   "metadata": {},
   "outputs": [
    {
     "name": "stdout",
     "output_type": "stream",
     "text": [
      "Matrix([[-sin(t)], [cos(t)], [1]])\n",
      "Matrix([[-cos(t)], [-sin(t)], [0]])\n",
      "Cross product of m' and m'': Matrix([[sin(t)], [-cos(t)], [sin(t)**2 + cos(t)**2]])\n",
      "Length:  (sin(t)**2 + cos(t)**2 + 1)**1.5\n",
      "Curvature: 0.5\n"
     ]
    }
   ],
   "source": [
    "# Define parametric equations\n",
    "x = sp.cos(t)\n",
    "y = sp.sin(t)\n",
    "z = t\n",
    "\n",
    "m = sp.Matrix([x, y, z])\n",
    "# Compute the derivative of m with respect to t\n",
    "m_prime = m.diff(t)\n",
    "print(m_prime)\n",
    "\n",
    "m_double_prime = m_prime.diff(t)\n",
    "print(m_double_prime)\n",
    "\n",
    "# Compute curvature\n",
    "cross_product = m_prime.cross(m_double_prime)\n",
    "# Print the result\n",
    "print(\"Cross product of m' and m'':\", cross_product)\n",
    "length = (m_prime[0]**2 + m_prime[1]**2 + m_prime[2]**2)**(3/2)\n",
    "print(\"Length: \", length)\n",
    "\n",
    "numerator = (cross_product[0]**2 + cross_product[1]**2 + cross_product[2]**2)**(1/2)\n",
    "curvature = numerator / length\n",
    "\n",
    "# Print curvature\n",
    "print(\"Curvature:\", sp.latex(sp.simplify(curvature)))\n"
   ]
  }
 ],
 "metadata": {
  "kernelspec": {
   "display_name": "Python 3",
   "language": "python",
   "name": "python3"
  },
  "language_info": {
   "codemirror_mode": {
    "name": "ipython",
    "version": 3
   },
   "file_extension": ".py",
   "mimetype": "text/x-python",
   "name": "python",
   "nbconvert_exporter": "python",
   "pygments_lexer": "ipython3",
   "version": "3.11.5"
  },
  "orig_nbformat": 4
 },
 "nbformat": 4,
 "nbformat_minor": 2
}
