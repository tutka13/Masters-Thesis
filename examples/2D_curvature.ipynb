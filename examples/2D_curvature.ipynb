{
 "cells": [
  {
   "cell_type": "code",
   "execution_count": 9,
   "metadata": {},
   "outputs": [],
   "source": [
    "import sympy as sp\n",
    "\n",
    "# Define symbols\n",
    "t = sp.symbols('t')\n",
    "c, d= sp.symbols('c d')"
   ]
  },
  {
   "cell_type": "code",
   "execution_count": 10,
   "metadata": {},
   "outputs": [
    {
     "name": "stdout",
     "output_type": "stream",
     "text": [
      "Curvature: \\frac{\\left|{c d}\\right|}{\\left(c^{2} \\sinh^{2}{\\left(t \\right)} + d^{2} \\cosh^{2}{\\left(t \\right)}\\right)^{1.5}}\n"
     ]
    }
   ],
   "source": [
    "# Define parametric equations\n",
    "x = c*sp.cosh(t)\n",
    "y = d*sp.sinh(t)\n",
    "\n",
    "# Compute derivatives\n",
    "x_prime = sp.diff(x, t)\n",
    "y_prime = sp.diff(y, t)\n",
    "x_double_prime = sp.diff(x_prime, t)\n",
    "y_double_prime = sp.diff(y_prime, t)\n",
    "\n",
    "# Compute curvature\n",
    "numerator = sp.Abs(x_prime * y_double_prime - x_double_prime * y_prime)\n",
    "denominator = (x_prime**2 + y_prime**2)**(3/2)\n",
    "curvature = numerator / denominator\n",
    "\n",
    "# Print curvature\n",
    "print(\"Curvature:\", sp.latex(sp.simplify(curvature)))\n"
   ]
  }
 ],
 "metadata": {
  "kernelspec": {
   "display_name": "Python 3",
   "language": "python",
   "name": "python3"
  },
  "language_info": {
   "codemirror_mode": {
    "name": "ipython",
    "version": 3
   },
   "file_extension": ".py",
   "mimetype": "text/x-python",
   "name": "python",
   "nbconvert_exporter": "python",
   "pygments_lexer": "ipython3",
   "version": "3.11.5"
  },
  "orig_nbformat": 4
 },
 "nbformat": 4,
 "nbformat_minor": 2
}
