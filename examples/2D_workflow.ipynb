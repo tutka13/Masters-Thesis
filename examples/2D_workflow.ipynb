{
 "cells": [
  {
   "cell_type": "code",
   "execution_count": 1,
   "metadata": {},
   "outputs": [],
   "source": [
    "import sympy as sp\n",
    "from IPython.display import display, Math\n",
    "import time\n",
    "start_time = time.time()"
   ]
  },
  {
   "cell_type": "code",
   "execution_count": 2,
   "metadata": {},
   "outputs": [],
   "source": [
    "# x, y sú súradnice bodov v R^2\n",
    "x, y = sp.symbols('x y')\n",
    "# t je parameter z intervalu I\n",
    "t = sp.Symbol('t')\n",
    "# a, b sú konštanty pre škálovanie elipsoidu, a - dotykový smer, b - normálový smer\n",
    "a, b = sp.symbols('a b')\n",
    "# všetky ostatné symboly sú parametre v parametrizácii krivky parametric_curve\n",
    "c, d = sp.symbols('c d')"
   ]
  },
  {
   "cell_type": "code",
   "execution_count": 3,
   "metadata": {},
   "outputs": [],
   "source": [
    "# Vstupné parametre\n",
    "# interval vyčíslenia krivky\n",
    "t_min = -10\n",
    "t_max = 10\n",
    "# parametre škálovania\n",
    "a_0 = 2\n",
    "b_0 = 1\n",
    "# parametre parametrizácie\n",
    "c_0 = 2\n",
    "d_0 = 1\n",
    "\n",
    "# parametrizácia krivky\n",
    "parametric_curve = sp.Matrix([c_0*t, d_0*t]) \n",
    "curve_name = 'line'"
   ]
  },
  {
   "cell_type": "code",
   "execution_count": 4,
   "metadata": {},
   "outputs": [],
   "source": [
    "# Vypočíta dotyčnicu a normálu pre parametric_curve\n",
    "def local_coordinate_system(parametric_curve): \n",
    "    t = sp.Symbol('t') \n",
    "    parametric_curve_first_derivation = sp.diff(parametric_curve, t)\n",
    "    T = parametric_curve_first_derivation / sp.sqrt(parametric_curve_first_derivation.dot(parametric_curve_first_derivation))\n",
    "    T = sp.simplify(T)\n",
    "    N = sp.Matrix([-T[1], T[0]])\n",
    "    N = sp.simplify(N)\n",
    "    return T, N\n",
    "\n",
    "# Vyrobí inverznú maticu prechodu \n",
    "def transition_matrix(T, N):\n",
    "    P = sp.Matrix.hstack(T, N)\n",
    "    return P.T\n",
    "\n",
    "def matrix_of_quadrics(A, B, C, D, E, F):\n",
    "    row1 = [A, B/2, D/2]\n",
    "    row2 = [B/2, C, E/2]\n",
    "    row3 = [D/2, E/2, F]\n",
    "    matrix = sp.Matrix([row1, row2, row3])\n",
    "    return matrix"
   ]
  },
  {
   "cell_type": "code",
   "execution_count": 5,
   "metadata": {},
   "outputs": [],
   "source": [
    "# Výpočet vektorov\n",
    "T, N = local_coordinate_system(parametric_curve)\n",
    "# Zostavenie matice\n",
    "P = transition_matrix(T, N)\n",
    "# Maticou P vynásobíme vektor (X-parametric_curve) a tak zmeníme bázu elipsy\n",
    "vector = sp.Matrix([x - parametric_curve[0], y - parametric_curve[1]])\n",
    "result_vector = P * vector\n",
    "ellipse_in_new_basis = result_vector[0]**2/a**2 + result_vector[1]**2/b**2 - 1\n",
    "# Derivácia jednoparametrického systému elíps \n",
    "derivation = sp.diff(ellipse_in_new_basis, t)"
   ]
  },
  {
   "cell_type": "code",
   "execution_count": 6,
   "metadata": {},
   "outputs": [
    {
     "name": "stdout",
     "output_type": "stream",
     "text": [
      "Coefficient of x^2:\n"
     ]
    },
    {
     "data": {
      "text/latex": [
       "$\\displaystyle 0$"
      ],
      "text/plain": [
       "<IPython.core.display.Math object>"
      ]
     },
     "metadata": {},
     "output_type": "display_data"
    },
    {
     "name": "stdout",
     "output_type": "stream",
     "text": [
      "Coefficient of y^2:\n"
     ]
    },
    {
     "data": {
      "text/latex": [
       "$\\displaystyle 0$"
      ],
      "text/plain": [
       "<IPython.core.display.Math object>"
      ]
     },
     "metadata": {},
     "output_type": "display_data"
    },
    {
     "name": "stdout",
     "output_type": "stream",
     "text": [
      "Coefficient of xy:\n"
     ]
    },
    {
     "data": {
      "text/latex": [
       "$\\displaystyle 0$"
      ],
      "text/plain": [
       "<IPython.core.display.Math object>"
      ]
     },
     "metadata": {},
     "output_type": "display_data"
    },
    {
     "name": "stdout",
     "output_type": "stream",
     "text": [
      "Coefficient of x:\n"
     ]
    },
    {
     "data": {
      "text/latex": [
       "$\\displaystyle - \\frac{4}{a^{2}}$"
      ],
      "text/plain": [
       "<IPython.core.display.Math object>"
      ]
     },
     "metadata": {},
     "output_type": "display_data"
    },
    {
     "name": "stdout",
     "output_type": "stream",
     "text": [
      "Coefficient of y:\n"
     ]
    },
    {
     "data": {
      "text/latex": [
       "$\\displaystyle - \\frac{2}{a^{2}}$"
      ],
      "text/plain": [
       "<IPython.core.display.Math object>"
      ]
     },
     "metadata": {},
     "output_type": "display_data"
    },
    {
     "name": "stdout",
     "output_type": "stream",
     "text": [
      "Coefficient of constant term:\n"
     ]
    },
    {
     "data": {
      "text/latex": [
       "$\\displaystyle \\frac{10 t}{a^{2}}$"
      ],
      "text/plain": [
       "<IPython.core.display.Math object>"
      ]
     },
     "metadata": {},
     "output_type": "display_data"
    }
   ],
   "source": [
    "# Výpočet, o aký typ kužeľosečky ide\n",
    "# Najprv potrebujeme extrahovať koeficienty z derivácie\n",
    "expanded_expression = sp.expand(derivation)\n",
    "A = expanded_expression.coeff(x**2)\n",
    "B = expanded_expression.coeff(x*y)\n",
    "C = expanded_expression.coeff(y**2)\n",
    "\n",
    "# Tu bolo potrebné odstrániť všetky koeficienty pri členoch x*y, x*z,..\n",
    "coef_x = expanded_expression.coeff(x)\n",
    "terms_x = sp.Add(*coef_x.args) if isinstance(coef_x, sp.Add) else coef_x\n",
    "terms_x_filtered = [term for term in sp.Add.make_args(terms_x) if not term.has(y)]\n",
    "D = sp.Add(*terms_x_filtered)\n",
    "\n",
    "coef_y = expanded_expression.coeff(y)\n",
    "terms_y = sp.Add(*coef_y.args) if isinstance(coef_y, sp.Add) else coef_y\n",
    "terms_y_filtered = [term for term in sp.Add.make_args(terms_y) if not term.has(x)]\n",
    "E = sp.Add(*terms_y_filtered)\n",
    "\n",
    "# Tu bolo potrebné odstrániť všetky koeficienty pri členoch x, y, z\n",
    "terms = sp.Add(*expanded_expression.args) if isinstance(expanded_expression, sp.Add) else expanded_expression\n",
    "terms_filtered = [term for term in sp.Add.make_args(terms) if not term.has(x) and not term.has(y)]\n",
    "F = sp.Add(*terms_filtered)\n",
    "\n",
    "matrix_of_derivation = matrix_of_quadrics(A, B, C, D, E, F)\n",
    "\n",
    "# Print koeficientov\n",
    "print(\"Coefficient of x^2:\")\n",
    "display(Math(sp.latex(sp.simplify(A))))\n",
    "print(\"Coefficient of y^2:\")\n",
    "display(Math(sp.latex(sp.simplify(C))))\n",
    "print(\"Coefficient of xy:\") \n",
    "display(Math(sp.latex(sp.simplify(B))))\n",
    "print(\"Coefficient of x:\")\n",
    "display(Math(sp.latex(sp.simplify(D))))\n",
    "print(\"Coefficient of y:\")\n",
    "display(Math(sp.latex(sp.simplify(E))))\n",
    "print(\"Coefficient of constant term:\")\n",
    "display(Math(sp.latex(sp.simplify(F))))"
   ]
  },
  {
   "cell_type": "code",
   "execution_count": 7,
   "metadata": {},
   "outputs": [],
   "source": [
    "# Typ kužeľosečky\n",
    "determinant = sp.det(matrix_of_derivation)\n",
    "subdeterminant = A*C-B**2/4"
   ]
  },
  {
   "cell_type": "code",
   "execution_count": 8,
   "metadata": {},
   "outputs": [],
   "source": [
    "# Ukončenie merania času\n",
    "end_time = time.time()\n",
    "elapsed_time = end_time - start_time"
   ]
  },
  {
   "cell_type": "code",
   "execution_count": 9,
   "metadata": {},
   "outputs": [
    {
     "name": "stdout",
     "output_type": "stream",
     "text": [
      "Výraz nie je pre zadané hodnoty záporný. \n"
     ]
    }
   ],
   "source": [
    "# Typ kuželosečky vieme jasne dourčiť pre špecifikáciu parametrov\n",
    "t_values = range(t_min, t_max)\n",
    "is_negative = True\n",
    "\n",
    "for t_val in t_values:\n",
    "    if subdeterminant.subs({t: t_val, a: a_0, b: b_0, c: c_0, d: d_0}) >= 0:\n",
    "        is_negative = False\n",
    "        break\n",
    "\n",
    "if is_negative:\n",
    "    print(\"Výraz je pre zadané hodnoty záporný. \")\n",
    "else:\n",
    "    print(\"Výraz nie je pre zadané hodnoty záporný. \")"
   ]
  },
  {
   "cell_type": "code",
   "execution_count": 11,
   "metadata": {},
   "outputs": [
    {
     "name": "stdout",
     "output_type": "stream",
     "text": [
      "Matrix([[2*t], [t]])\n",
      "Systém: \n"
     ]
    },
    {
     "data": {
      "text/latex": [
       "$\\displaystyle -1 + \\frac{\\left(x - 2 y\\right)^{2}}{5 b^{2}} + \\frac{\\left(5 t - 2 x - y\\right)^{2}}{5 a^{2}}$"
      ],
      "text/plain": [
       "<IPython.core.display.Math object>"
      ]
     },
     "metadata": {},
     "output_type": "display_data"
    }
   ],
   "source": [
    "print(parametric_curve)\n",
    "print(\"Systém: \")\n",
    "system = sp.latex(sp.simplify(ellipse_in_new_basis))\n",
    "display(Math(system))"
   ]
  },
  {
   "cell_type": "code",
   "execution_count": 12,
   "metadata": {},
   "outputs": [
    {
     "name": "stdout",
     "output_type": "stream",
     "text": [
      "Derivácia sytému: \n"
     ]
    },
    {
     "data": {
      "text/latex": [
       "$\\displaystyle \\frac{2 \\cdot \\left(5 t - 2 x - y\\right)}{a^{2}}$"
      ],
      "text/plain": [
       "<IPython.core.display.Math object>"
      ]
     },
     "metadata": {},
     "output_type": "display_data"
    }
   ],
   "source": [
    "print(\"Derivácia sytému: \")\n",
    "der = sp.latex(sp.simplify(derivation))\n",
    "display(Math(der))"
   ]
  },
  {
   "cell_type": "code",
   "execution_count": 13,
   "metadata": {},
   "outputs": [
    {
     "name": "stdout",
     "output_type": "stream",
     "text": [
      "Determinant derivácie: \n"
     ]
    },
    {
     "data": {
      "text/latex": [
       "$\\displaystyle 0$"
      ],
      "text/plain": [
       "<IPython.core.display.Math object>"
      ]
     },
     "metadata": {},
     "output_type": "display_data"
    }
   ],
   "source": [
    "print(\"Determinant derivácie: \")\n",
    "display(Math(sp.latex(sp.simplify(determinant))))"
   ]
  },
  {
   "cell_type": "code",
   "execution_count": null,
   "metadata": {},
   "outputs": [],
   "source": [
    "\n",
    "print(\"Čas: \")\n",
    "print(elapsed_time, \"seconds\")\n",
    "\n",
    "expression = sp.latex(sp.simplify(subdeterminant))\n",
    "display(Math(expression))"
   ]
  },
  {
   "cell_type": "code",
   "execution_count": 11,
   "metadata": {},
   "outputs": [],
   "source": [
    "with open(curve_name + '.txt', \"w\") as file:\n",
    "    # Write content to the file\n",
    "    file.write(f\"{curve_name} {parametric_curve}\\n\")\n",
    "    file.write('System:\\n')\n",
    "    file.write(f\"{system} = 0\\n\")\n",
    "    file.write('Derivation:\\n')\n",
    "    file.write(f\"{der} = 0\\n\")\n",
    "    file.write('Time:\\n')\n",
    "    file.write(f\"{elapsed_time}\\n\")\n",
    "    file.write('Determinant:\\n')\n",
    "    file.write(f\"{determinant}\\n\")\n",
    "    file.write('Subdeterminant:\\n')\n",
    "    file.write(f\"{expression}\\n\")"
   ]
  }
 ],
 "metadata": {
  "kernelspec": {
   "display_name": "Python 3",
   "language": "python",
   "name": "python3"
  },
  "language_info": {
   "codemirror_mode": {
    "name": "ipython",
    "version": 3
   },
   "file_extension": ".py",
   "mimetype": "text/x-python",
   "name": "python",
   "nbconvert_exporter": "python",
   "pygments_lexer": "ipython3",
   "version": "3.11.5"
  },
  "orig_nbformat": 4
 },
 "nbformat": 4,
 "nbformat_minor": 2
}
